{
 "cells": [
  {
   "cell_type": "code",
   "execution_count": 1,
   "metadata": {},
   "outputs": [
    {
     "name": "stdout",
     "output_type": "stream",
     "text": [
      "Requirement already satisfied: nltk in /home/jovyan_venv/.venv/torch1.10.0-py3.8-cuda11.3/lib/python3.8/site-packages (3.8.1)\n",
      "Requirement already satisfied: textblob in /home/jovyan_venv/.venv/torch1.10.0-py3.8-cuda11.3/lib/python3.8/site-packages (0.17.1)\n",
      "Requirement already satisfied: click in /home/jovyan_venv/.venv/torch1.10.0-py3.8-cuda11.3/lib/python3.8/site-packages (from nltk) (8.1.7)\n",
      "Requirement already satisfied: joblib in /usr/local/lib/python3.8/dist-packages (from nltk) (1.1.0)\n",
      "Requirement already satisfied: regex>=2021.8.3 in /home/jovyan_venv/.venv/torch1.10.0-py3.8-cuda11.3/lib/python3.8/site-packages (from nltk) (2023.12.25)\n",
      "Requirement already satisfied: tqdm in /home/jovyan_venv/.venv/torch1.10.0-py3.8-cuda11.3/lib/python3.8/site-packages (from nltk) (4.62.3)\n",
      "\u001b[33mDEPRECATION: pytorch-lightning 1.5.5 has a non-standard dependency specifier torch>=1.7.*. pip 24.0 will enforce this behaviour change. A possible replacement is to upgrade to a newer version of pytorch-lightning or contact the author to suggest that they release a version with a conforming dependency specifiers. Discussion can be found at https://github.com/pypa/pip/issues/12063\u001b[0m\u001b[33m\n",
      "\u001b[0m\u001b[33mDEPRECATION: python-debian 0.1.36ubuntu1 has a non-standard version number. pip 24.0 will enforce this behaviour change. A possible replacement is to upgrade to a newer version of python-debian or contact the author to suggest that they release a version with a conforming version number. Discussion can be found at https://github.com/pypa/pip/issues/12063\u001b[0m\u001b[33m\n",
      "\u001b[0m"
     ]
    }
   ],
   "source": [
    "# !pip install nltk textblob"
   ]
  },
  {
   "cell_type": "code",
   "execution_count": 2,
   "metadata": {
    "_cell_guid": "d7205f16-32c2-47cd-a973-66dd3d26e18b",
    "_uuid": "b5ab5e82-267b-49f0-bac0-cb1821fc448e",
    "jupyter": {
     "outputs_hidden": false
    }
   },
   "outputs": [],
   "source": [
    "# !pip install keras-core --upgrade\n",
    "# !pip install -q keras-nlp\n",
    "# !pip install seaborn"
   ]
  },
  {
   "cell_type": "code",
   "execution_count": 3,
   "metadata": {
    "execution": {
     "iopub.execute_input": "2024-01-11T01:01:35.519200Z",
     "iopub.status.busy": "2024-01-11T01:01:35.518569Z",
     "iopub.status.idle": "2024-01-11T01:01:59.694732Z",
     "shell.execute_reply": "2024-01-11T01:01:59.693614Z",
     "shell.execute_reply.started": "2024-01-11T01:01:35.519167Z"
    }
   },
   "outputs": [],
   "source": [
    "# !pip install transformers"
   ]
  },
  {
   "cell_type": "markdown",
   "metadata": {},
   "source": [
    "# Import the Libararies"
   ]
  },
  {
   "cell_type": "code",
   "execution_count": 4,
   "metadata": {},
   "outputs": [],
   "source": [
    "# !pip install pandas"
   ]
  },
  {
   "cell_type": "code",
   "execution_count": 5,
   "metadata": {},
   "outputs": [],
   "source": [
    "# !pip install tqdm"
   ]
  },
  {
   "cell_type": "code",
   "execution_count": 1,
   "metadata": {
    "_cell_guid": "144fcaa8-ae4c-4898-9ed0-52cb6669b9fb",
    "_uuid": "fe4ff976-8341-434f-be42-90e689fea868",
    "jupyter": {
     "outputs_hidden": false
    }
   },
   "outputs": [],
   "source": [
    "import numpy as np # linear algebra\n",
    "import pandas as pd # data processing, CSV file I/O (e.g. pd.read_csv)\n",
    "import torch\n",
    "# import tensorflow as tf\n",
    "# import keras_core as keras\n",
    "# import keras_nlp\n",
    "import seaborn as sns\n",
    "import matplotlib.pyplot as plt\n",
    "from sklearn.metrics import f1_score\n",
    "# print(\"TensorFlow version:\", tf.__version__)\n",
    "import re\n",
    "from tqdm.auto import tqdm\n",
    "tqdm.pandas()\n",
    "from tqdm import tqdm\n",
    "# from sentence_transformers import SentenceTransformer\n",
    "# from scipy.spatial.distance import cosine\n",
    "import random\n",
    "# print(\"Keras version:\", keras.__version__)\n",
    "# print(\"KerasNLP version:\", keras_nlp.__version__)\n",
    "\n",
    "# import os\n",
    "# os.environ['KERAS_BACKEND'] = 'tensorflow'\n",
    "# from transformers import TFRobertaForSequenceClassification\n",
    "from sklearn.model_selection import train_test_split"
   ]
  },
  {
   "cell_type": "markdown",
   "metadata": {
    "_cell_guid": "f02e01c8-04c2-45f8-9578-544c96bb9d73",
    "_uuid": "a1b88057-6530-410f-9868-1b0ab3aa079d"
   },
   "source": [
    "# Load the data\n"
   ]
  },
  {
   "cell_type": "code",
   "execution_count": 7,
   "metadata": {},
   "outputs": [],
   "source": [
    "# clean = pd.read_csv('cleaned_data_3_clean.csv')"
   ]
  },
  {
   "cell_type": "code",
   "execution_count": 2,
   "metadata": {
    "_cell_guid": "e6081b99-ed49-4cbe-8d01-dbb356733e60",
    "_uuid": "238abcf2-ee8c-4f4f-9bae-0e3ca671978a",
    "jupyter": {
     "outputs_hidden": false
    }
   },
   "outputs": [],
   "source": [
    "train_prompts = pd.read_csv('train_prompts.csv') #('/kaggle/input/llm-detect-ai-generated-text/train_prompts.csv')\n",
    "train_essays = pd.read_csv('train_essays.csv')#('/kaggle/input/llm-detect-ai-generated-text/train_essays.csv')\n",
    "test_essays = pd.read_csv('test_essays.csv')#('/kaggle/input/llm-detect-ai-generated-text/test_essays.csv')\n",
    "train_extra = pd.read_csv('train_v3_drcat_01.csv')#('/kaggle/input/daigt-v3-train-dataset/train_v3_drcat_01.csv')\n",
    "train_extra_2 = pd.read_csv('train_v3_drcat_02.csv')#('/kaggle/input/daigt-v3-train-dataset/train_v3_drcat_02.csv')\n",
    "train_extra_3 = pd.read_csv('train_drcat_01.csv')\n",
    "train_extra_4 = pd.read_csv('train_drcat_02.csv')\n",
    "train_extra_5 = pd.read_csv('train_drcat_03.csv')\n",
    "train_extra_6 = pd.read_csv('train_drcat_04.csv')"
   ]
  },
  {
   "cell_type": "markdown",
   "metadata": {},
   "source": [
    "# 🐝데이터 준비 (train+extra)"
   ]
  },
  {
   "cell_type": "code",
   "execution_count": 3,
   "metadata": {},
   "outputs": [
    {
     "data": {
      "text/plain": [
       "Text(0.5, 1.0, 'Distribution of Generated Text')"
      ]
     },
     "execution_count": 3,
     "metadata": {},
     "output_type": "execute_result"
    },
    {
     "data": {
      "image/png": "[encoded data removed]",
      "text/plain": [
       "<Figure size 864x288 with 1 Axes>"
      ]
     },
     "metadata": {
      "needs_background": "light"
     },
     "output_type": "display_data"
    }
   ],
   "source": [
    "f, ax = plt.subplots(figsize=(12, 4))\n",
    "\n",
    "sns.despine()\n",
    "ax = sns.countplot(data=train_essays,\n",
    "                   x=\"generated\")\n",
    "\n",
    "abs_values = train_essays['generated'].value_counts().values\n",
    "\n",
    "ax.bar_label(container=ax.containers[0], labels=abs_values)\n",
    "\n",
    "ax.set_title(\"Distribution of Generated Text\")"
   ]
  },
  {
   "cell_type": "code",
   "execution_count": 4,
   "metadata": {},
   "outputs": [],
   "source": [
    "train_essays['text_length'] = train_essays['text'].apply(lambda x: len(str(x)))\n",
    "\n",
    "# 'text' 열을 문자열로 캐스팅하고 리스트로 변환\n",
    "train_essays_sen = train_essays['text'].astype(str).tolist()\n",
    "\n",
    "# 각 텍스트의 문장 수를 세어 새로운 열에 저장\n",
    "train_essays['sentence_count'] = [text.count('.') + text.count('!') + text.count('?') for text in train_essays_sen]\n",
    "# df_train_extra_stu.drop(['prompt_name','source','RDizzl3_seven','model'],axis=1,inplace=True)\n",
    "\n",
    "train_essays.drop(['id','prompt_id'],axis=1,inplace=True)"
   ]
  },
  {
   "cell_type": "code",
   "execution_count": 5,
   "metadata": {},
   "outputs": [
    {
     "data": {
      "image/png": "[encoded data removed]",
      "text/plain": [
       "<Figure size 864x432 with 1 Axes>"
      ]
     },
     "metadata": {
      "needs_background": "light"
     },
     "output_type": "display_data"
    }
   ],
   "source": [
    "import matplotlib.pyplot as plt\n",
    "import seaborn as sns\n",
    "# Plotting the histogram\n",
    "plt.figure(figsize=(12, 6))\n",
    "sns.histplot(train_essays['text_length'], bins=50, color='blue', label='Generated 1 filter', kde=True)\n",
    "plt.title('Distribution of Sentence Length by \"generated 1 filter\"')\n",
    "plt.xlabel('Text Length')\n",
    "plt.ylabel('Frequency')\n",
    "plt.legend()\n",
    "plt.show()"
   ]
  },
  {
   "cell_type": "code",
   "execution_count": 6,
   "metadata": {},
   "outputs": [],
   "source": [
    "train_essays = train_essays.loc[(train_essays['text_length'] >= 746) & (train_essays['text_length'] <= 6000)]"
   ]
  },
  {
   "cell_type": "code",
   "execution_count": 7,
   "metadata": {},
   "outputs": [
    {
     "name": "stdout",
     "output_type": "stream",
     "text": [
      "Generated 0:\n",
      "    sentence_count  generated_0_count\n",
      "50               7                  1\n",
      "39              11                  5\n",
      "51              12                  1\n",
      "40              13                  4\n",
      "37              14                  6\n",
      "30              15                 13\n",
      "25              16                 19\n",
      "22              17                 22\n",
      "20              18                 32\n",
      "17              19                 36\n",
      "16              20                 40\n",
      "10              21                 52\n",
      "11              22                 52\n",
      "8               23                 54\n",
      "1               24                 70\n",
      "2               25                 70\n",
      "0               26                 72\n",
      "3               27                 69\n",
      "5               28                 57\n",
      "7               29                 54\n",
      "4               30                 67\n",
      "9               31                 53\n",
      "6               32                 54\n",
      "13              33                 44\n",
      "14              34                 44\n",
      "15              35                 40\n",
      "12              36                 45\n",
      "18              37                 33\n",
      "19              38                 32\n",
      "21              39                 25\n",
      "26              40                 18\n",
      "31              41                 13\n",
      "33              42                 12\n",
      "23              43                 20\n",
      "28              44                 13\n",
      "36              45                  7\n",
      "24              46                 19\n",
      "27              47                 14\n",
      "35              48                  8\n",
      "29              49                 13\n",
      "41              50                  4\n",
      "44              51                  4\n",
      "34              52                  8\n",
      "32              53                 12\n",
      "43              54                  4\n",
      "38              55                  5\n",
      "42              56                  4\n",
      "47              57                  2\n",
      "54              58                  1\n",
      "57              59                  1\n",
      "45              61                  3\n",
      "46              64                  2\n",
      "49              65                  1\n",
      "55              66                  1\n",
      "53              68                  1\n",
      "48              71                  1\n",
      "52              73                  1\n",
      "56              74                  1\n",
      "\n",
      "Generated 1:\n",
      "   sentence_count  generated_1_count\n",
      "0              11                  2\n",
      "1              15                  1\n"
     ]
    }
   ],
   "source": [
    "# 'generated' 열 값이 0인 경우와 1인 경우를 분리\n",
    "generated_0_counts1 = train_essays[train_essays['generated'] == 0]['sentence_count'].value_counts().reset_index()\n",
    "generated_0_counts1.columns = ['sentence_count', 'generated_0_count']\n",
    "\n",
    "generated_1_counts1 = train_essays[train_essays['generated'] == 1]['sentence_count'].value_counts().reset_index()\n",
    "generated_1_counts1.columns = ['sentence_count', 'generated_1_count']\n",
    "\n",
    "# 결과를 오름차순으로 정렬\n",
    "generated_0_counts1 = generated_0_counts1.sort_values(by='sentence_count')\n",
    "generated_1_counts1 = generated_1_counts1.sort_values(by='sentence_count')\n",
    "\n",
    "# 출력\n",
    "print(\"Generated 0:\")\n",
    "print(generated_0_counts1)\n",
    "\n",
    "print(\"\\nGenerated 1:\")\n",
    "print(generated_1_counts1)\n"
   ]
  },
  {
   "cell_type": "code",
   "execution_count": 8,
   "metadata": {},
   "outputs": [
    {
     "name": "stdout",
     "output_type": "stream",
     "text": [
      "Limiting car use causes pollution, increases costs to users regardless of where services or services are offered. Furthermore, over use of the gas results in increased environmental degradation, harming our resources while damaging our environment.\n",
      "\n",
      "When consumers pay a larger amount before gasoline is refined then there are higher costs of running the engine than otherwise. There are fewer places where the gas can be purchased locally causing more problems. Car trips will usually have higher tolls which results in lost wages for the transportation worker, who goes to an unnecessary location for work and then returns home and gets to pay back his transportation back costs. The car accident rate amongst children also has increased. Car pollution can become airborne easily, contaminating children's health. Also children tend to be more careless and more often in accidents simply because of being pushed out of their cars onto the road. All of this can be done to better an already polluted Earth that is becoming increasingly damaged at a much faster rate. Limiting our vehicle use helps our citizens with a reduced budget. It also reduces pollution for local areas. Furthermore, it improves public health and makes city dwellers a wealthier society.\n",
      "\n",
      "Limiting our own usage by adopting public transportation, walking, biking, and public transport actually would be beneficial for the citizens and planet. I think its very healthy but very little others show similar sentiment mostly environmental activists who want a more environmentally clean place so it often is still looked down upon it still will bring about a very drastic price eventually but there will never be carbon credit trading or an oil recycling scheme unless people want it too. Limiting car use is good for the city.\n",
      "----------------------------------------\n"
     ]
    }
   ],
   "source": [
    "for index, row in train_essays[(train_essays['generated'] == 1) & (train_essays['sentence_count'] == 15)].iterrows():\n",
    "    print(row['text'])\n",
    "    print(\"-\" * 40)  # 경계선 출력"
   ]
  },
  {
   "cell_type": "code",
   "execution_count": 9,
   "metadata": {},
   "outputs": [
    {
     "data": {
      "text/html": [
       "<div>\n",
       "<style scoped>\n",
       "    .dataframe tbody tr th:only-of-type {\n",
       "        vertical-align: middle;\n",
       "    }\n",
       "\n",
       "    .dataframe tbody tr th {\n",
       "        vertical-align: top;\n",
       "    }\n",
       "\n",
       "    .dataframe thead th {\n",
       "        text-align: right;\n",
       "    }\n",
       "</style>\n",
       "<table border=\"1\" class=\"dataframe\">\n",
       "  <thead>\n",
       "    <tr style=\"text-align: right;\">\n",
       "      <th></th>\n",
       "      <th>text</th>\n",
       "      <th>generated</th>\n",
       "      <th>text_length</th>\n",
       "      <th>sentence_count</th>\n",
       "    </tr>\n",
       "  </thead>\n",
       "  <tbody>\n",
       "    <tr>\n",
       "      <th>0</th>\n",
       "      <td>Cars. Cars have been around since they became ...</td>\n",
       "      <td>0</td>\n",
       "      <td>3289</td>\n",
       "      <td>26</td>\n",
       "    </tr>\n",
       "    <tr>\n",
       "      <th>1</th>\n",
       "      <td>Transportation is a large necessity in most co...</td>\n",
       "      <td>0</td>\n",
       "      <td>2738</td>\n",
       "      <td>27</td>\n",
       "    </tr>\n",
       "    <tr>\n",
       "      <th>2</th>\n",
       "      <td>\"America's love affair with it's vehicles seem...</td>\n",
       "      <td>0</td>\n",
       "      <td>4428</td>\n",
       "      <td>48</td>\n",
       "    </tr>\n",
       "    <tr>\n",
       "      <th>3</th>\n",
       "      <td>How often do you ride in a car? Do you drive a...</td>\n",
       "      <td>0</td>\n",
       "      <td>4013</td>\n",
       "      <td>54</td>\n",
       "    </tr>\n",
       "    <tr>\n",
       "      <th>4</th>\n",
       "      <td>Cars are a wonderful thing. They are perhaps o...</td>\n",
       "      <td>0</td>\n",
       "      <td>4698</td>\n",
       "      <td>53</td>\n",
       "    </tr>\n",
       "  </tbody>\n",
       "</table>\n",
       "</div>"
      ],
      "text/plain": [
       "                                                text  generated  text_length  \\\n",
       "0  Cars. Cars have been around since they became ...          0         3289   \n",
       "1  Transportation is a large necessity in most co...          0         2738   \n",
       "2  \"America's love affair with it's vehicles seem...          0         4428   \n",
       "3  How often do you ride in a car? Do you drive a...          0         4013   \n",
       "4  Cars are a wonderful thing. They are perhaps o...          0         4698   \n",
       "\n",
       "   sentence_count  \n",
       "0              26  \n",
       "1              27  \n",
       "2              48  \n",
       "3              54  \n",
       "4              53  "
      ]
     },
     "execution_count": 9,
     "metadata": {},
     "output_type": "execute_result"
    }
   ],
   "source": [
    "train_essays.head()"
   ]
  },
  {
   "cell_type": "code",
   "execution_count": 10,
   "metadata": {},
   "outputs": [
    {
     "data": {
      "text/html": [
       "<div>\n",
       "<style scoped>\n",
       "    .dataframe tbody tr th:only-of-type {\n",
       "        vertical-align: middle;\n",
       "    }\n",
       "\n",
       "    .dataframe tbody tr th {\n",
       "        vertical-align: top;\n",
       "    }\n",
       "\n",
       "    .dataframe thead th {\n",
       "        text-align: right;\n",
       "    }\n",
       "</style>\n",
       "<table border=\"1\" class=\"dataframe\">\n",
       "  <thead>\n",
       "    <tr style=\"text-align: right;\">\n",
       "      <th></th>\n",
       "      <th>generated</th>\n",
       "      <th>text_length</th>\n",
       "      <th>sentence_count</th>\n",
       "    </tr>\n",
       "  </thead>\n",
       "  <tbody>\n",
       "    <tr>\n",
       "      <th>count</th>\n",
       "      <td>1362.000000</td>\n",
       "      <td>1362.000000</td>\n",
       "      <td>1362.000000</td>\n",
       "    </tr>\n",
       "    <tr>\n",
       "      <th>mean</th>\n",
       "      <td>0.002203</td>\n",
       "      <td>3125.391336</td>\n",
       "      <td>30.053598</td>\n",
       "    </tr>\n",
       "    <tr>\n",
       "      <th>std</th>\n",
       "      <td>0.046898</td>\n",
       "      <td>829.878047</td>\n",
       "      <td>9.546633</td>\n",
       "    </tr>\n",
       "    <tr>\n",
       "      <th>min</th>\n",
       "      <td>0.000000</td>\n",
       "      <td>1356.000000</td>\n",
       "      <td>7.000000</td>\n",
       "    </tr>\n",
       "    <tr>\n",
       "      <th>25%</th>\n",
       "      <td>0.000000</td>\n",
       "      <td>2550.250000</td>\n",
       "      <td>24.000000</td>\n",
       "    </tr>\n",
       "    <tr>\n",
       "      <th>50%</th>\n",
       "      <td>0.000000</td>\n",
       "      <td>2977.500000</td>\n",
       "      <td>29.000000</td>\n",
       "    </tr>\n",
       "    <tr>\n",
       "      <th>75%</th>\n",
       "      <td>0.000000</td>\n",
       "      <td>3596.750000</td>\n",
       "      <td>35.000000</td>\n",
       "    </tr>\n",
       "    <tr>\n",
       "      <th>max</th>\n",
       "      <td>1.000000</td>\n",
       "      <td>5977.000000</td>\n",
       "      <td>74.000000</td>\n",
       "    </tr>\n",
       "  </tbody>\n",
       "</table>\n",
       "</div>"
      ],
      "text/plain": [
       "         generated  text_length  sentence_count\n",
       "count  1362.000000  1362.000000     1362.000000\n",
       "mean      0.002203  3125.391336       30.053598\n",
       "std       0.046898   829.878047        9.546633\n",
       "min       0.000000  1356.000000        7.000000\n",
       "25%       0.000000  2550.250000       24.000000\n",
       "50%       0.000000  2977.500000       29.000000\n",
       "75%       0.000000  3596.750000       35.000000\n",
       "max       1.000000  5977.000000       74.000000"
      ]
     },
     "execution_count": 10,
     "metadata": {},
     "output_type": "execute_result"
    }
   ],
   "source": [
    "train_essays.describe()"
   ]
  },
  {
   "cell_type": "code",
   "execution_count": 17,
   "metadata": {},
   "outputs": [
    {
     "name": "stdout",
     "output_type": "stream",
     "text": [
      "<class 'pandas.core.frame.DataFrame'>\n",
      "Int64Index: 1362 entries, 0 to 1377\n",
      "Data columns (total 4 columns):\n",
      " #   Column          Non-Null Count  Dtype \n",
      "---  ------          --------------  ----- \n",
      " 0   text            1362 non-null   object\n",
      " 1   generated       1362 non-null   int64 \n",
      " 2   text_length     1362 non-null   int64 \n",
      " 3   sentence_count  1362 non-null   int64 \n",
      "dtypes: int64(3), object(1)\n",
      "memory usage: 53.2+ KB\n"
     ]
    }
   ],
   "source": [
    "train_essays.info()"
   ]
  },
  {
   "cell_type": "markdown",
   "metadata": {},
   "source": [
    "# ====== train_extra로부터 데이터 증강 =========="
   ]
  },
  {
   "cell_type": "code",
   "execution_count": 11,
   "metadata": {},
   "outputs": [],
   "source": [
    "df_train_extra_stu=pd.concat([train_extra,train_extra_2,train_extra_3,train_extra_4,train_extra_5,train_extra_6],ignore_index=True)\n",
    "\n",
    "df_train_extra_stu.rename(columns = {\"label\":\"generated\"}, inplace=True)"
   ]
  },
  {
   "cell_type": "code",
   "execution_count": 12,
   "metadata": {},
   "outputs": [],
   "source": [
    "excluded_prompt_name_list = ['Distance learning','Grades for extracurricular activities','Summer projects']\n",
    "df_train_extra_stu = df_train_extra_stu[~(df_train_extra_stu['prompt_name'].isin(excluded_prompt_name_list))]\n",
    "df_train_extra_stu = df_train_extra_stu.drop_duplicates(subset=['text'])\n",
    "df_train_extra_stu.reset_index(drop=True, inplace=True)"
   ]
  },
  {
   "cell_type": "code",
   "execution_count": 13,
   "metadata": {},
   "outputs": [
    {
     "data": {
      "text/html": [
       "<div>\n",
       "<style scoped>\n",
       "    .dataframe tbody tr th:only-of-type {\n",
       "        vertical-align: middle;\n",
       "    }\n",
       "\n",
       "    .dataframe tbody tr th {\n",
       "        vertical-align: top;\n",
       "    }\n",
       "\n",
       "    .dataframe thead th {\n",
       "        text-align: right;\n",
       "    }\n",
       "</style>\n",
       "<table border=\"1\" class=\"dataframe\">\n",
       "  <thead>\n",
       "    <tr style=\"text-align: right;\">\n",
       "      <th></th>\n",
       "      <th>generated</th>\n",
       "      <th>fold</th>\n",
       "    </tr>\n",
       "  </thead>\n",
       "  <tbody>\n",
       "    <tr>\n",
       "      <th>count</th>\n",
       "      <td>81638.000000</td>\n",
       "      <td>12740.000000</td>\n",
       "    </tr>\n",
       "    <tr>\n",
       "      <th>mean</th>\n",
       "      <td>0.635158</td>\n",
       "      <td>2.862166</td>\n",
       "    </tr>\n",
       "    <tr>\n",
       "      <th>std</th>\n",
       "      <td>0.481389</td>\n",
       "      <td>2.362607</td>\n",
       "    </tr>\n",
       "    <tr>\n",
       "      <th>min</th>\n",
       "      <td>0.000000</td>\n",
       "      <td>0.000000</td>\n",
       "    </tr>\n",
       "    <tr>\n",
       "      <th>25%</th>\n",
       "      <td>0.000000</td>\n",
       "      <td>1.000000</td>\n",
       "    </tr>\n",
       "    <tr>\n",
       "      <th>50%</th>\n",
       "      <td>1.000000</td>\n",
       "      <td>3.000000</td>\n",
       "    </tr>\n",
       "    <tr>\n",
       "      <th>75%</th>\n",
       "      <td>1.000000</td>\n",
       "      <td>4.000000</td>\n",
       "    </tr>\n",
       "    <tr>\n",
       "      <th>max</th>\n",
       "      <td>1.000000</td>\n",
       "      <td>9.000000</td>\n",
       "    </tr>\n",
       "  </tbody>\n",
       "</table>\n",
       "</div>"
      ],
      "text/plain": [
       "          generated          fold\n",
       "count  81638.000000  12740.000000\n",
       "mean       0.635158      2.862166\n",
       "std        0.481389      2.362607\n",
       "min        0.000000      0.000000\n",
       "25%        0.000000      1.000000\n",
       "50%        1.000000      3.000000\n",
       "75%        1.000000      4.000000\n",
       "max        1.000000      9.000000"
      ]
     },
     "execution_count": 13,
     "metadata": {},
     "output_type": "execute_result"
    }
   ],
   "source": [
    "df_train_extra_stu.describe()"
   ]
  },
  {
   "cell_type": "code",
   "execution_count": 14,
   "metadata": {},
   "outputs": [
    {
     "name": "stdout",
     "output_type": "stream",
     "text": [
      "['Phones and driving' 'Car-free cities' '\"A Cowboy Who Rode the Waves\"'\n",
      " 'Mandatory extracurricular activities' 'Exploring Venus'\n",
      " 'Facial action coding system' 'The Face on Mars' 'Community service'\n",
      " 'Driverless cars' 'Does the electoral college work?'\n",
      " 'Cell phones at school' 'Seeking multiple opinions' nan]\n"
     ]
    }
   ],
   "source": [
    "unique_prompt_names = df_train_extra_stu['prompt_name'].unique()\n",
    "print(unique_prompt_names)"
   ]
  },
  {
   "cell_type": "code",
   "execution_count": 16,
   "metadata": {},
   "outputs": [
    {
     "name": "stdout",
     "output_type": "stream",
     "text": [
      "                                                    text  generated  \\\n",
      "20463   In recent years, technology has had a profoun...          1   \n",
      "20464  One way school administrators can attempt to c...          1   \n",
      "20465  The use of Facial Action Coding System (FACS) ...          1   \n",
      "20466   Date 3/11/2020\\n\\nName Generic_Name\\n\\nTest E...          1   \n",
      "20467   When it comes to seeking advice or assistance...          1   \n",
      "...                                                  ...        ...   \n",
      "81633  There are compelling arguments on both sides o...          1   \n",
      "81634  While distance learning provides flexibility t...          1   \n",
      "81635  While distance learning offers flexibility and...          1   \n",
      "81636  Schools should allow student-designed summer p...          1   \n",
      "81637  While both teacher-designed and student-design...          1   \n",
      "\n",
      "                       prompt_name                source RDizzl3_seven model  \\\n",
      "20463              Car-free cities  mistral7binstruct_v2          True   NaN   \n",
      "20464        Cell phones at school         chat_gpt_moth         False   NaN   \n",
      "20465  Facial action coding system     darragh_claude_v6          True   NaN   \n",
      "20466    Seeking multiple opinions  mistral7binstruct_v2         False   NaN   \n",
      "20467    Seeking multiple opinions  mistral7binstruct_v2         False   NaN   \n",
      "...                            ...                   ...           ...   ...   \n",
      "81633                          NaN     darragh_claude_v7           NaN   NaN   \n",
      "81634                          NaN     darragh_claude_v7           NaN   NaN   \n",
      "81635                          NaN     darragh_claude_v6           NaN   NaN   \n",
      "81636                          NaN     darragh_claude_v7           NaN   NaN   \n",
      "81637                          NaN     darragh_claude_v7           NaN   NaN   \n",
      "\n",
      "       fold               essay_id  \\\n",
      "20463   NaN                    NaN   \n",
      "20464   NaN                    NaN   \n",
      "20465   NaN                    NaN   \n",
      "20466   NaN                    NaN   \n",
      "20467   NaN                    NaN   \n",
      "...     ...                    ...   \n",
      "81633   1.0   darragh_claude_v7_83   \n",
      "81634   8.0  darragh_claude_v7_738   \n",
      "81635   8.0  52ac8d801bdf_04112023   \n",
      "81636   0.0  darragh_claude_v7_436   \n",
      "81637   8.0  darragh_claude_v7_810   \n",
      "\n",
      "                                                  prompt  \n",
      "20463                                                NaN  \n",
      "20464                                                NaN  \n",
      "20465                                                NaN  \n",
      "20466                                                NaN  \n",
      "20467                                                NaN  \n",
      "...                                                  ...  \n",
      "81633  Some schools offer distance learning as an opt...  \n",
      "81634  Some schools offer distance learning as an opt...  \n",
      "81635                                                NaN  \n",
      "81636  Some schools require students to complete summ...  \n",
      "81637  Some schools require students to complete summ...  \n",
      "\n",
      "[51853 rows x 9 columns]\n",
      "                                                    text  generated  \\\n",
      "0      Phones\\n\\nModern humans today are always on th...          0   \n",
      "1      This essay will explain if drivers should or s...          0   \n",
      "2      Driving while the use of cellular devices\\n\\nT...          0   \n",
      "3      Phones & Driving\\n\\nDrivers should not be able...          0   \n",
      "4      Cell Phone Operation While Driving\\n\\nThe abil...          0   \n",
      "...                                                  ...        ...   \n",
      "80327  I think i agree because you can learn more and...          0   \n",
      "80328  I agree with this statement because it's impos...          0   \n",
      "80329  If you alone in the world you can make nothing...          0   \n",
      "80330  Yeah we all have our own freedom but well that...          0   \n",
      "80331  My uncle has in his wallet 100 dollars, he giv...          0   \n",
      "\n",
      "              prompt_name           source RDizzl3_seven model  fold  \\\n",
      "0      Phones and driving  persuade_corpus         False   NaN   NaN   \n",
      "1      Phones and driving  persuade_corpus         False   NaN   NaN   \n",
      "2      Phones and driving  persuade_corpus         False   NaN   NaN   \n",
      "3      Phones and driving  persuade_corpus         False   NaN   NaN   \n",
      "4      Phones and driving  persuade_corpus         False   NaN   NaN   \n",
      "...                   ...              ...           ...   ...   ...   \n",
      "80327                 NaN    original_moth           NaN   NaN   0.0   \n",
      "80328                 NaN    original_moth           NaN   NaN   7.0   \n",
      "80329                 NaN    original_moth           NaN   NaN   9.0   \n",
      "80330                 NaN    original_moth           NaN   NaN   8.0   \n",
      "80331                 NaN    original_moth           NaN   NaN   2.0   \n",
      "\n",
      "           essay_id                                             prompt  \n",
      "0               NaN                                                NaN  \n",
      "1               NaN                                                NaN  \n",
      "2               NaN                                                NaN  \n",
      "3               NaN                                                NaN  \n",
      "4               NaN                                                NaN  \n",
      "...             ...                                                ...  \n",
      "80327  CA64C82B0F26  Task: \\n\\n1. Research the advantages of having...  \n",
      "80328  890FAF6F82FC  Task: Write an essay discussing the challenges...  \n",
      "80329  60ED0B48B8F2  Task: \\nWrite an essay that explores the idea ...  \n",
      "80330  E103955391AB  Task: Write an essay discussing the importance...  \n",
      "80331  84CE7281265F  Task: Compare and contrast the two situations ...  \n",
      "\n",
      "[29785 rows x 9 columns]\n"
     ]
    }
   ],
   "source": [
    "# generated 열 값이 0인 행들만 추출하여 새로운 데이터프레임 생성\n",
    "df_train_extra_stu1 = df_train_extra_stu[df_train_extra_stu['generated'] == 1]\n",
    "df_train_extra_stu0 = df_train_extra_stu[df_train_extra_stu['generated'] == 0]\n",
    "# df_train_extra_stu = df_train_extra_stu.drop(columns=[\"prompt_name\", \"RDizzl3_seven\", 'model'])\n",
    "\n",
    "# df_train_extra_stu = df_train_extra_stu[df_train_extra_stu['source'] == 'train_essays']\n",
    "\n",
    "# 새로운 데이터프레임 확인\n",
    "print(df_train_extra_stu1)\n",
    "print(df_train_extra_stu0)"
   ]
  },
  {
   "cell_type": "code",
   "execution_count": 17,
   "metadata": {},
   "outputs": [],
   "source": [
    "df_train_extra_stu = pd.concat([df_train_extra_stu0,df_train_extra_stu1])"
   ]
  },
  {
   "cell_type": "code",
   "execution_count": 18,
   "metadata": {},
   "outputs": [],
   "source": [
    "# 공백 제거\n",
    "df_train_extra_stu.dropna(subset=['text'], inplace=True)\n",
    "df_train_extra_stu['text'] = df_train_extra_stu['text'].str.strip()\n",
    "df_train_extra_stu = df_train_extra_stu[df_train_extra_stu['text'] != \"\"]\n",
    "\n",
    "# 중복된 텍스트 제거\n",
    "df_train_extra_stu.drop_duplicates(subset='text', keep='first', inplace=True)"
   ]
  },
  {
   "cell_type": "code",
   "execution_count": 19,
   "metadata": {},
   "outputs": [
    {
     "data": {
      "application/vnd.jupyter.widget-view+json": {
       "model_id": "b661013d74024e0ab62b272749e17761",
       "version_major": 2,
       "version_minor": 0
      },
      "text/plain": [
       "  0%|          | 0/76317 [00:00<?, ?it/s]"
      ]
     },
     "metadata": {},
     "output_type": "display_data"
    },
    {
     "data": {
      "application/vnd.jupyter.widget-view+json": {
       "model_id": "7d04c00fa5f24802942631c031997c51",
       "version_major": 2,
       "version_minor": 0
      },
      "text/plain": [
       "  0%|          | 0/76317 [00:00<?, ?it/s]"
      ]
     },
     "metadata": {},
     "output_type": "display_data"
    }
   ],
   "source": [
    "import re\n",
    "\n",
    "# 공백 제거\n",
    "df_train_extra_stu.dropna(subset=['text'], inplace=True)\n",
    "df_train_extra_stu['text'] = df_train_extra_stu['text'].str.strip()\n",
    "df_train_extra_stu = df_train_extra_stu[df_train_extra_stu['text'] != \"\"]\n",
    "\n",
    "def clean_text(text):\n",
    "    # 줄넘김 기호를 공백으로 대체\n",
    "    text = re.sub(r'[\\r\\n]', ' ', text)\n",
    "    # 연속된 마침표 제거 (단, 단일 마침표는 유지)\n",
    "    text = re.sub(r'\\.{2,}', '', text)\n",
    "        # 연속된 물음표와 느낌표를 하나로 축소\n",
    "    text = re.sub(r'\\?{2,}', '?', text)\n",
    "    text = re.sub(r'!{2,}', '!', text)\n",
    "    # 특수 문자 제거 (단, 영문자, 숫자, 밑줄, 공백, 단일 마침표, 물음표, 느낌표는 유지)\n",
    "    text = re.sub(r'[^\\w\\s.?!]', '', text)\n",
    "    \n",
    "#     # 연속되는 동일한 단어 또는 구문 제거 (예: 'I I I I...' 또는 'Claim The Face...')\n",
    "#     text = re.sub(r'(\\b\\w+\\b)( \\1\\b)+', r'\\1', text)\n",
    "    return text\n",
    "\n",
    "def is_text_too_short(text, min_length=150):\n",
    "    # 텍스트 길이가 최소 길이보다 짧은지 확인\n",
    "    return len(text) > min_length\n",
    "\n",
    "# DataFrame의 'text' 컬럼에 clean_text 함수 적용\n",
    "df_train_extra_stu['text'] = df_train_extra_stu['text'].progress_apply(clean_text)\n",
    "\n",
    "# 너무 짧은 텍스트 필터링\n",
    "df_train_extra_stu = df_train_extra_stu[df_train_extra_stu['text'].progress_apply(is_text_too_short)]\n",
    "\n",
    "\n",
    "# 중복된 텍스트 제거\n",
    "df_train_extra_stu.drop_duplicates(subset='text', keep='first', inplace=True)\n",
    "\n",
    "\n",
    "# def has_repeated_sentences(text):\n",
    "#     # 단어 또는 구문의 반복을 체크하는 함수\n",
    "#     # '\\b'는 단어 경계를 나타냄, '(.+)'는 임의의 문자열, '\\s'는 공백, '\\1'은 첫번째 캡쳐된 그룹\n",
    "#     if re.search(r'(\\b.+)\\b\\s+\\1', text):\n",
    "#         return True\n",
    "#     return False\n",
    "\n",
    "# # 'text' 컬럼에서 반복되는 문장을 포함하는 행을 필터링하고 제거\n",
    "# df_train_extra_stu = df_train_extra_stu[df_train_extra_stu['text'].progress_apply(has_repeated_sentences)]\n",
    "\n"
   ]
  },
  {
   "cell_type": "code",
   "execution_count": 33,
   "metadata": {},
   "outputs": [],
   "source": [
    "\n",
    "# def remove_repeated_phrases(text, min_repeats=4):\n",
    "#     # 반복되는 구문을 찾고, 최소 반복 횟수보다 많이 반복되면 제거\n",
    "#     pattern = r'(.*?)( \\1)+'\n",
    "#     while True:\n",
    "#         text, num_subs = re.subn(pattern, r'\\1', text)\n",
    "#         if num_subs < min_repeats:\n",
    "#             break\n",
    "#     return text\n",
    "\n",
    "# # DataFrame의 'text' 컬럼에 remove_repeated_phrases 함수 적용\n",
    "# df_train_extra_stu['text'] = df_train_extra_stu['text'].progress_apply(lambda x: remove_repeated_phrases(x))\n"
   ]
  },
  {
   "cell_type": "code",
   "execution_count": 34,
   "metadata": {},
   "outputs": [],
   "source": [
    "# import re\n",
    "\n",
    "# # 공백 제거\n",
    "# df_train_extra_stu.dropna(subset=['text'], inplace=True)\n",
    "# df_train_extra_stu['text'] = df_train_extra_stu['text'].str.strip()\n",
    "# df_train_extra_stu = df_train_extra_stu[df_train_extra_stu['text'] != \"\"]\n",
    "\n",
    "# def clean_text(text):\n",
    "#     # 줄넘김 기호를 공백으로 대체\n",
    "#     text = re.sub(r'[\\r\\n]', ' ', text)\n",
    "#     # 연속된 마침표 제거 (단, 단일 마침표는 유지)\n",
    "#     text = re.sub(r'\\.{2,}', '', text)\n",
    "#     # 특수 문자 제거 (단, 영문자, 숫자, 밑줄, 공백 및 단일 마침표는 유지)\n",
    "#     text = re.sub(r'[^\\w\\s.]', '', text)\n",
    "#     # 연속되는 동일한 단어 또는 구문 제거 (예: 'I I I I...' 또는 'Claim The Face...')\n",
    "#     text = re.sub(r'(\\b\\w+\\b)( \\1\\b)+', r'\\1', text)\n",
    "#     return text\n",
    "\n",
    "# def is_text_too_short(text, min_length=150):\n",
    "#     # 텍스트 길이가 최소 길이보다 짧은지 확인\n",
    "#     return len(text) > min_length\n",
    "\n",
    "# # DataFrame의 'text' 컬럼에 clean_text 함수 적용\n",
    "# df_train_extra_stu['text'] = df_train_extra_stu['text'].apply(clean_text)\n",
    "\n",
    "# # 너무 짧은 텍스트 필터링\n",
    "# df_train_extra_stu = df_train_extra_stu[df_train_extra_stu['text'].apply(is_text_too_short)]\n",
    "\n",
    "# # 중복된 텍스트 제거\n",
    "# df_train_extra_stu.drop_duplicates(subset='text', keep='first', inplace=True)\n"
   ]
  },
  {
   "cell_type": "code",
   "execution_count": 20,
   "metadata": {},
   "outputs": [],
   "source": [
    "df_train_extra_stu['text_length'] = df_train_extra_stu['text'].apply(lambda x: len(str(x)))\n",
    "df_train_extra_stu=df_train_extra_stu.drop(['prompt_name','source','RDizzl3_seven','model'],axis=1)"
   ]
  },
  {
   "cell_type": "code",
   "execution_count": 21,
   "metadata": {},
   "outputs": [],
   "source": [
    "# 'text' 열을 문자열로 캐스팅하고 리스트로 변환\n",
    "df_train_extra_stu_sen = df_train_extra_stu['text'].astype(str).tolist()\n",
    "\n",
    "# 각 텍스트의 문장 수를 세어 새로운 열에 저장\n",
    "df_train_extra_stu['sentence_count'] = [text.count('.') + text.count('!') + text.count('?') for text in df_train_extra_stu_sen]\n",
    "# df_train_extra_stu.drop(['prompt_name','source','RDizzl3_seven','model'],axis=1,inplace=True)"
   ]
  },
  {
   "cell_type": "code",
   "execution_count": 22,
   "metadata": {},
   "outputs": [
    {
     "data": {
      "text/html": [
       "<div>\n",
       "<style scoped>\n",
       "    .dataframe tbody tr th:only-of-type {\n",
       "        vertical-align: middle;\n",
       "    }\n",
       "\n",
       "    .dataframe tbody tr th {\n",
       "        vertical-align: top;\n",
       "    }\n",
       "\n",
       "    .dataframe thead th {\n",
       "        text-align: right;\n",
       "    }\n",
       "</style>\n",
       "<table border=\"1\" class=\"dataframe\">\n",
       "  <thead>\n",
       "    <tr style=\"text-align: right;\">\n",
       "      <th></th>\n",
       "      <th>text</th>\n",
       "      <th>generated</th>\n",
       "      <th>fold</th>\n",
       "      <th>essay_id</th>\n",
       "      <th>prompt</th>\n",
       "      <th>text_length</th>\n",
       "      <th>sentence_count</th>\n",
       "    </tr>\n",
       "  </thead>\n",
       "  <tbody>\n",
       "    <tr>\n",
       "      <th>81633</th>\n",
       "      <td>There are compelling arguments on both sides o...</td>\n",
       "      <td>1</td>\n",
       "      <td>1.0</td>\n",
       "      <td>darragh_claude_v7_83</td>\n",
       "      <td>Some schools offer distance learning as an opt...</td>\n",
       "      <td>2182</td>\n",
       "      <td>16</td>\n",
       "    </tr>\n",
       "    <tr>\n",
       "      <th>81634</th>\n",
       "      <td>While distance learning provides flexibility t...</td>\n",
       "      <td>1</td>\n",
       "      <td>8.0</td>\n",
       "      <td>darragh_claude_v7_738</td>\n",
       "      <td>Some schools offer distance learning as an opt...</td>\n",
       "      <td>1877</td>\n",
       "      <td>15</td>\n",
       "    </tr>\n",
       "    <tr>\n",
       "      <th>81635</th>\n",
       "      <td>While distance learning offers flexibility and...</td>\n",
       "      <td>1</td>\n",
       "      <td>8.0</td>\n",
       "      <td>52ac8d801bdf_04112023</td>\n",
       "      <td>NaN</td>\n",
       "      <td>1881</td>\n",
       "      <td>14</td>\n",
       "    </tr>\n",
       "    <tr>\n",
       "      <th>81636</th>\n",
       "      <td>Schools should allow studentdesigned summer pr...</td>\n",
       "      <td>1</td>\n",
       "      <td>0.0</td>\n",
       "      <td>darragh_claude_v7_436</td>\n",
       "      <td>Some schools require students to complete summ...</td>\n",
       "      <td>1767</td>\n",
       "      <td>20</td>\n",
       "    </tr>\n",
       "    <tr>\n",
       "      <th>81637</th>\n",
       "      <td>While both teacherdesigned and studentdesigned...</td>\n",
       "      <td>1</td>\n",
       "      <td>8.0</td>\n",
       "      <td>darragh_claude_v7_810</td>\n",
       "      <td>Some schools require students to complete summ...</td>\n",
       "      <td>1805</td>\n",
       "      <td>16</td>\n",
       "    </tr>\n",
       "  </tbody>\n",
       "</table>\n",
       "</div>"
      ],
      "text/plain": [
       "                                                    text  generated  fold  \\\n",
       "81633  There are compelling arguments on both sides o...          1   1.0   \n",
       "81634  While distance learning provides flexibility t...          1   8.0   \n",
       "81635  While distance learning offers flexibility and...          1   8.0   \n",
       "81636  Schools should allow studentdesigned summer pr...          1   0.0   \n",
       "81637  While both teacherdesigned and studentdesigned...          1   8.0   \n",
       "\n",
       "                    essay_id  \\\n",
       "81633   darragh_claude_v7_83   \n",
       "81634  darragh_claude_v7_738   \n",
       "81635  52ac8d801bdf_04112023   \n",
       "81636  darragh_claude_v7_436   \n",
       "81637  darragh_claude_v7_810   \n",
       "\n",
       "                                                  prompt  text_length  \\\n",
       "81633  Some schools offer distance learning as an opt...         2182   \n",
       "81634  Some schools offer distance learning as an opt...         1877   \n",
       "81635                                                NaN         1881   \n",
       "81636  Some schools require students to complete summ...         1767   \n",
       "81637  Some schools require students to complete summ...         1805   \n",
       "\n",
       "       sentence_count  \n",
       "81633              16  \n",
       "81634              15  \n",
       "81635              14  \n",
       "81636              20  \n",
       "81637              16  "
      ]
     },
     "execution_count": 22,
     "metadata": {},
     "output_type": "execute_result"
    }
   ],
   "source": [
    "df_train_extra_stu.tail()"
   ]
  },
  {
   "cell_type": "code",
   "execution_count": 24,
   "metadata": {},
   "outputs": [],
   "source": [
    "df_train_extra_stu=df_train_extra_stu.drop(['fold','essay_id','prompt'],axis=1)"
   ]
  },
  {
   "cell_type": "code",
   "execution_count": 25,
   "metadata": {},
   "outputs": [
    {
     "data": {
      "text/plain": [
       "Text(0.5, 1.0, 'Distribution of Generated Text')"
      ]
     },
     "execution_count": 25,
     "metadata": {},
     "output_type": "execute_result"
    },
    {
     "data": {
      "image/png": "[encoded data removed]",
      "text/plain": [
       "<Figure size 864x288 with 1 Axes>"
      ]
     },
     "metadata": {
      "needs_background": "light"
     },
     "output_type": "display_data"
    }
   ],
   "source": [
    "f, ax = plt.subplots(figsize=(12, 4))\n",
    "\n",
    "sns.despine()\n",
    "ax = sns.countplot(data=df_train_extra_stu,\n",
    "                   x=\"generated\",\n",
    "                   order=df_train_extra_stu['generated'].value_counts().index[::-1])  # 데이터를 뒤집어서 정렬\n",
    "\n",
    "abs_values = df_train_extra_stu['generated'].value_counts().values[::-1]  # 데이터를 뒤집어서 정렬\n",
    "\n",
    "ax.bar_label(container=ax.containers[0], labels=abs_values)\n",
    "\n",
    "ax.set_title(\"Distribution of Generated Text\")\n"
   ]
  },
  {
   "cell_type": "code",
   "execution_count": 39,
   "metadata": {},
   "outputs": [],
   "source": [
    "# f, ax = plt.subplots(figsize=(12, 4))\n",
    "\n",
    "# sns.despine()\n",
    "# ax = sns.countplot(data=df_train_extra_stu,\n",
    "#                    x=\"generated\",\n",
    "#                    order=df_train_extra_stu['generated'].value_counts().index[::-1])  # 데이터를 뒤집어서 정렬\n",
    "\n",
    "# abs_values = df_train_extra_stu['generated'].value_counts().values[::-1]  # 데이터를 뒤집어서 정렬\n",
    "\n",
    "# ax.bar_label(container=ax.containers[0], labels=abs_values)\n",
    "\n",
    "# ax.set_title(\"Distribution of Generated Text\")\n"
   ]
  },
  {
   "cell_type": "code",
   "execution_count": 40,
   "metadata": {},
   "outputs": [],
   "source": [
    "# selected_rows1 = df_train_extra_stu[df_train_extra_stu['generated'] == 1]\n",
    "# selected_rows0 = df_train_extra_stu[df_train_extra_stu['generated'] == 0]\n",
    "# # 선택된 행들에 대해 describe를 수행합니다.\n",
    "# description1 = selected_rows1.describe()\n",
    "# description0 = selected_rows0.describe()\n",
    "\n",
    "# # 결과를 출력합니다.\n",
    "# print(description0)\n",
    "# print(description1)"
   ]
  },
  {
   "cell_type": "code",
   "execution_count": 41,
   "metadata": {},
   "outputs": [],
   "source": [
    "# f, ax = plt.subplots(figsize=(12, 4))\n",
    "\n",
    "# sns.despine()\n",
    "# ax = sns.countplot(data=df_train_extra_stu,\n",
    "#                    x=\"generated\",\n",
    "#                    order=df_train_extra_stu['generated'].value_counts().index[::-1])  # 데이터를 뒤집어서 정렬\n",
    "\n",
    "# abs_values = df_train_extra_stu['generated'].value_counts().values[::-1]  # 데이터를 뒤집어서 정렬\n",
    "\n",
    "# ax.bar_label(container=ax.containers[0], labels=abs_values)\n",
    "\n",
    "# ax.set_title(\"Distribution of Generated Text\")\n"
   ]
  },
  {
   "cell_type": "code",
   "execution_count": 42,
   "metadata": {},
   "outputs": [],
   "source": [
    "# plt.figure(figsize=(16, 6))\n",
    "\n",
    "# # 'generated'가 0인 경우의 히스토그램\n",
    "# sns.histplot(df_train_extra_stu[df_train_extra_stu['generated'] == 0]['text_length'], bins=150, color='blue', label='Generated 0', kde=True)\n",
    "\n",
    "# # 'generated'가 1인 경우의 히스토그램\n",
    "# sns.histplot(df_train_extra_stu[df_train_extra_stu['generated'] == 1]['text_length'], bins=150, color='red', label='Generated 1', kde=True)\n",
    "\n",
    "# plt.title('Distribution of word count by \"generated\"')\n",
    "# plt.xlabel('Text Length')\n",
    "# plt.ylabel('Frequency')\n",
    "# plt.legend()\n",
    "# plt.show()\n"
   ]
  },
  {
   "cell_type": "code",
   "execution_count": 43,
   "metadata": {},
   "outputs": [],
   "source": [
    "# plt.figure(figsize=(16, 6))\n",
    "\n",
    "# # 'generated'가 0인 경우의 히스토그램\n",
    "# sns.histplot(df_train_extra_stu[df_train_extra_stu['generated'] == 0]['sentence_count'], bins=150, color='blue', label='Generated 0', kde=True)\n",
    "\n",
    "# # 'generated'가 1인 경우의 히스토그램\n",
    "# sns.histplot(df_train_extra_stu[df_train_extra_stu['generated'] == 1]['sentence_count'], bins=150, color='red', label='Generated 1', kde=True)\n",
    "\n",
    "# plt.title('Distribution of Sentence count by \"generated\"')\n",
    "# plt.xlabel('sentence_count')\n",
    "# plt.ylabel('Frequency')\n",
    "# plt.legend()\n",
    "# plt.show()\n"
   ]
  },
  {
   "cell_type": "code",
   "execution_count": 26,
   "metadata": {},
   "outputs": [
    {
     "data": {
      "image/png": "[encoded data removed]",
      "text/plain": [
       "<Figure size 432x288 with 1 Axes>"
      ]
     },
     "metadata": {
      "needs_background": "light"
     },
     "output_type": "display_data"
    }
   ],
   "source": [
    "import matplotlib.pyplot as plt\n",
    "import pandas as pd\n",
    "\n",
    "# 데이터프레임 예시 (df_train_extra_stu)\n",
    "# df_train_extra_stu = pd.DataFrame({\n",
    "#     'text_length': [100, 200, 300, 400],\n",
    "#     'sentence_count': [10, 20, 30, 40]\n",
    "# })\n",
    "\n",
    "# 산점도 생성\n",
    "plt.scatter(df_train_extra_stu['text_length'], df_train_extra_stu['sentence_count'])\n",
    "plt.xlabel('Text Length')\n",
    "plt.ylabel('Sentence Count')\n",
    "plt.title('Scatter Plot of Text Length vs Sentence Count')\n",
    "plt.show()\n"
   ]
  },
  {
   "cell_type": "code",
   "execution_count": 45,
   "metadata": {},
   "outputs": [],
   "source": [
    "# # 상관계수 계산\n",
    "# correlation = df_train_extra_stu['text_length'].corr(df_train_extra_stu['sentence_count'])\n",
    "# print(\"Correlation coefficient:\", correlation)\n"
   ]
  },
  {
   "cell_type": "code",
   "execution_count": 46,
   "metadata": {},
   "outputs": [],
   "source": [
    "# selected_rows1 = df_train_extra_stu[df_train_extra_stu['generated'] == 1]\n",
    "# selected_rows0 = df_train_extra_stu[df_train_extra_stu['generated'] == 0]\n",
    "# # 선택된 행들에 대해 describe를 수행합니다.\n",
    "# description1 = selected_rows1.describe()\n",
    "# description0 = selected_rows0.describe()\n",
    "\n",
    "# # 결과를 출력합니다.\n",
    "# print(description0)\n",
    "# print(description1)"
   ]
  },
  {
   "cell_type": "code",
   "execution_count": 47,
   "metadata": {},
   "outputs": [],
   "source": [
    "# # 'generated' 열 값이 0인 경우와 1인 경우를 분리\n",
    "# generated_0_counts = df_train_extra_stu[df_train_extra_stu['generated'] == 0]['sentence_count'].value_counts().reset_index()\n",
    "# generated_0_counts.columns = ['sentence_count', 'generated_0_count']\n",
    "\n",
    "# generated_1_counts = df_train_extra_stu[df_train_extra_stu['generated'] == 1]['sentence_count'].value_counts().reset_index()\n",
    "# generated_1_counts.columns = ['sentence_count', 'generated_1_count']\n",
    "\n",
    "# # 결과를 오름차순으로 정렬\n",
    "# generated_0_counts = generated_0_counts.sort_values(by='sentence_count')\n",
    "# generated_1_counts = generated_1_counts.sort_values(by='sentence_count')\n",
    "\n",
    "# # 출력\n",
    "# print(\"Generated 0:\")\n",
    "# print(generated_0_counts)\n",
    "\n",
    "# print(\"\\nGenerated 1:\")\n",
    "# print(generated_1_counts)\n"
   ]
  },
  {
   "cell_type": "code",
   "execution_count": 48,
   "metadata": {
    "scrolled": false
   },
   "outputs": [],
   "source": [
    "# for index, row in df_train_extra_stu[(df_train_extra_stu['generated'] == 1) & (df_train_extra_stu['sentence_count'] == 3)].iterrows():\n",
    "#     print(row['text'])\n",
    "#     print(\"-\" * 40)  # 경계선 출력"
   ]
  },
  {
   "cell_type": "code",
   "execution_count": 27,
   "metadata": {},
   "outputs": [],
   "source": [
    "# 정제된 데이터를 CSV 파일로 저장\n",
    "df_train_extra_stu.to_csv('70000data.csv', index=False)"
   ]
  },
  {
   "cell_type": "code",
   "execution_count": 50,
   "metadata": {},
   "outputs": [],
   "source": [
    "# df_train_extra_stu = pd.read_csv('cleaned_data_3_clean.csv')"
   ]
  },
  {
   "cell_type": "code",
   "execution_count": null,
   "metadata": {},
   "outputs": [],
   "source": []
  },
  {
   "cell_type": "code",
   "execution_count": null,
   "metadata": {},
   "outputs": [],
   "source": []
  },
  {
   "cell_type": "code",
   "execution_count": null,
   "metadata": {},
   "outputs": [],
   "source": []
  },
  {
   "cell_type": "code",
   "execution_count": 51,
   "metadata": {},
   "outputs": [],
   "source": [
    "# # Create a figure with two subplots\n",
    "# fig, (ax1, ax2) = plt.subplots(1, 2, figsize=(16, 6))\n",
    "\n",
    "# # Plot the histogram for 'text_length' with generated=0\n",
    "# sns.histplot(filtered_rows0[filtered_rows0['generated'] == 0]['text_length'], bins=50, color='blue', label='Generated 0', kde=True, ax=ax1)\n",
    "# ax1.set_title('Distribution of Sentence Length by \"generated 0\"')\n",
    "# ax1.set_xlabel('Text Length')\n",
    "# ax1.set_ylabel('Frequency')\n",
    "# ax1.legend()\n",
    "\n",
    "# # Plot the histogram for 'text_length' with generated=1\n",
    "# sns.histplot(filtered_rows1[filtered_rows1['generated'] == 1]['text_length'], bins=50, color='red', label='Generated 1', kde=True, ax=ax2)\n",
    "# ax2.set_title('Distribution of Sentence Length by \"generated 1\"')\n",
    "# ax2.set_xlabel('Text Length')\n",
    "# ax2.set_ylabel('Frequency')\n",
    "# ax2.legend()\n",
    "\n",
    "# plt.show()\n"
   ]
  },
  {
   "cell_type": "code",
   "execution_count": 52,
   "metadata": {},
   "outputs": [],
   "source": [
    "# plt.figure(figsize=(16, 6))\n",
    "\n",
    "# # 'generated'가 0인 경우의 히스토그램\n",
    "# sns.histplot(filtered_rows0[filtered_rows0['generated'] == 0]['text_length'], bins=50, color='blue', label='Generated 0', kde=True)\n",
    "\n",
    "# # 'generated'가 1인 경우의 히스토그램\n",
    "# sns.histplot(filtered_rows1[filtered_rows1['generated'] == 1]['text_length'], bins=50, color='red', label='Generated 1', kde=True)\n",
    "\n",
    "# plt.title('Distribution of Sentence Length by \"generated\"')\n",
    "# plt.xlabel('Text Length')\n",
    "# plt.ylabel('Frequency')\n",
    "# plt.legend()\n",
    "# plt.show()\n"
   ]
  },
  {
   "cell_type": "markdown",
   "metadata": {},
   "source": [
    "# =====df_train_essays_final 데이터셋 준비======="
   ]
  },
  {
   "cell_type": "code",
   "execution_count": 28,
   "metadata": {},
   "outputs": [],
   "source": [
    "df_train_essays_final = pd.concat([train_essays,df_train_extra_stu],axis=0)"
   ]
  },
  {
   "cell_type": "code",
   "execution_count": 29,
   "metadata": {},
   "outputs": [
    {
     "data": {
      "text/plain": [
       "Text(0.5, 1.0, 'Distribution of Generated Text')"
      ]
     },
     "execution_count": 29,
     "metadata": {},
     "output_type": "execute_result"
    },
    {
     "data": {
      "image/png": "[encoded data removed]",
      "text/plain": [
       "<Figure size 864x288 with 1 Axes>"
      ]
     },
     "metadata": {
      "needs_background": "light"
     },
     "output_type": "display_data"
    }
   ],
   "source": [
    "f, ax = plt.subplots(figsize=(12, 4))\n",
    "\n",
    "sns.despine()\n",
    "ax = sns.countplot(data=df_train_essays_final,\n",
    "                   x=\"generated\",\n",
    "                   order=df_train_essays_final['generated'].value_counts().index[::-1])  # 데이터를 뒤집어서 정렬\n",
    "\n",
    "abs_values = df_train_essays_final['generated'].value_counts().values[::-1]  # 데이터를 뒤집어서 정렬\n",
    "\n",
    "ax.bar_label(container=ax.containers[0], labels=abs_values)\n",
    "\n",
    "ax.set_title(\"Distribution of Generated Text\")\n"
   ]
  },
  {
   "cell_type": "code",
   "execution_count": 30,
   "metadata": {},
   "outputs": [
    {
     "data": {
      "image/png": "[encoded data removed]",
      "text/plain": [
       "<Figure size 1152x432 with 2 Axes>"
      ]
     },
     "metadata": {
      "needs_background": "light"
     },
     "output_type": "display_data"
    }
   ],
   "source": [
    "# Create a figure with two subplots\n",
    "fig, (ax1, ax2) = plt.subplots(1, 2, figsize=(16, 6))\n",
    "\n",
    "# Plot the histogram for 'text_length' with generated=0\n",
    "sns.histplot(df_train_essays_final[df_train_essays_final['generated'] == 0]['text_length'], bins=50, color='blue', label='Generated 0', kde=True, ax=ax1)\n",
    "ax1.set_title('Distribution of Sentence Length by \"generated 0\"')\n",
    "ax1.set_xlabel('Text Length')\n",
    "ax1.set_ylabel('Frequency')\n",
    "ax1.legend()\n",
    "\n",
    "# Plot the histogram for 'text_length' with generated=1\n",
    "sns.histplot(df_train_essays_final[df_train_essays_final['generated'] == 1]['text_length'], bins=50, color='red', label='Generated 1', kde=True, ax=ax2)\n",
    "ax2.set_title('Distribution of Sentence Length by \"generated 1\"')\n",
    "ax2.set_xlabel('Text Length')\n",
    "ax2.set_ylabel('Frequency')\n",
    "ax2.legend()\n",
    "\n",
    "plt.show()\n"
   ]
  },
  {
   "cell_type": "code",
   "execution_count": 31,
   "metadata": {},
   "outputs": [],
   "source": [
    "df_train_essays_final = df_train_essays_final.drop(['text_length', 'sentence_count'],axis=1)"
   ]
  },
  {
   "cell_type": "code",
   "execution_count": 32,
   "metadata": {},
   "outputs": [
    {
     "data": {
      "text/html": [
       "<div>\n",
       "<style scoped>\n",
       "    .dataframe tbody tr th:only-of-type {\n",
       "        vertical-align: middle;\n",
       "    }\n",
       "\n",
       "    .dataframe tbody tr th {\n",
       "        vertical-align: top;\n",
       "    }\n",
       "\n",
       "    .dataframe thead th {\n",
       "        text-align: right;\n",
       "    }\n",
       "</style>\n",
       "<table border=\"1\" class=\"dataframe\">\n",
       "  <thead>\n",
       "    <tr style=\"text-align: right;\">\n",
       "      <th></th>\n",
       "      <th>text</th>\n",
       "      <th>generated</th>\n",
       "    </tr>\n",
       "  </thead>\n",
       "  <tbody>\n",
       "    <tr>\n",
       "      <th>0</th>\n",
       "      <td>Cars. Cars have been around since they became ...</td>\n",
       "      <td>0</td>\n",
       "    </tr>\n",
       "    <tr>\n",
       "      <th>1</th>\n",
       "      <td>Transportation is a large necessity in most co...</td>\n",
       "      <td>0</td>\n",
       "    </tr>\n",
       "    <tr>\n",
       "      <th>2</th>\n",
       "      <td>\"America's love affair with it's vehicles seem...</td>\n",
       "      <td>0</td>\n",
       "    </tr>\n",
       "    <tr>\n",
       "      <th>3</th>\n",
       "      <td>How often do you ride in a car? Do you drive a...</td>\n",
       "      <td>0</td>\n",
       "    </tr>\n",
       "    <tr>\n",
       "      <th>4</th>\n",
       "      <td>Cars are a wonderful thing. They are perhaps o...</td>\n",
       "      <td>0</td>\n",
       "    </tr>\n",
       "  </tbody>\n",
       "</table>\n",
       "</div>"
      ],
      "text/plain": [
       "                                                text  generated\n",
       "0  Cars. Cars have been around since they became ...          0\n",
       "1  Transportation is a large necessity in most co...          0\n",
       "2  \"America's love affair with it's vehicles seem...          0\n",
       "3  How often do you ride in a car? Do you drive a...          0\n",
       "4  Cars are a wonderful thing. They are perhaps o...          0"
      ]
     },
     "execution_count": 32,
     "metadata": {},
     "output_type": "execute_result"
    }
   ],
   "source": [
    "df_train_essays_final.head()"
   ]
  },
  {
   "cell_type": "code",
   "execution_count": 58,
   "metadata": {},
   "outputs": [
    {
     "name": "stdout",
     "output_type": "stream",
     "text": [
      "<class 'pandas.core.frame.DataFrame'>\n",
      "Int64Index: 18439 entries, 0 to 17076\n",
      "Data columns (total 2 columns):\n",
      " #   Column     Non-Null Count  Dtype \n",
      "---  ------     --------------  ----- \n",
      " 0   text       18439 non-null  object\n",
      " 1   generated  18439 non-null  int64 \n",
      "dtypes: int64(1), object(1)\n",
      "memory usage: 948.2+ KB\n"
     ]
    }
   ],
   "source": [
    "df_train_essays_final.info()"
   ]
  },
  {
   "cell_type": "markdown",
   "metadata": {},
   "source": [
    "# ========================\n",
    "# ====================================="
   ]
  },
  {
   "cell_type": "markdown",
   "metadata": {},
   "source": [
    "# ==========오타수정 라이브러리 대기===========\n",
    "# ========================================="
   ]
  },
  {
   "cell_type": "markdown",
   "metadata": {},
   "source": [
    "# ❓ 오타수정 library 적용 유무 (24.01.10 : X)"
   ]
  },
  {
   "cell_type": "code",
   "execution_count": 59,
   "metadata": {},
   "outputs": [],
   "source": [
    "# !pip install pyspellchecker"
   ]
  },
  {
   "cell_type": "code",
   "execution_count": 60,
   "metadata": {},
   "outputs": [],
   "source": [
    "# from spellchecker import SpellChecker\n",
    "\n",
    "# spell = SpellChecker()\n",
    "# misspelled = spell.unknown(['let', 'us', 'wlak', 'on', 'the', 'groun'])\n",
    "\n",
    "# for word in misspelled:\n",
    "#     print(f'Misspelled word: {word}')\n",
    "#     print(f'Suggestion: {spell.correction(word)}')\n"
   ]
  },
  {
   "cell_type": "code",
   "execution_count": 61,
   "metadata": {},
   "outputs": [],
   "source": [
    "# !pip install textblob"
   ]
  },
  {
   "cell_type": "code",
   "execution_count": 62,
   "metadata": {},
   "outputs": [],
   "source": [
    "# from textblob import TextBlob\n",
    "\n",
    "# text = \"I havv goood speling\"\n",
    "# blob = TextBlob(text)\n",
    "\n",
    "# corrected_text = blob.correct()\n",
    "# print(corrected_text)"
   ]
  },
  {
   "cell_type": "code",
   "execution_count": 63,
   "metadata": {},
   "outputs": [],
   "source": [
    "# !pip install hunspell"
   ]
  },
  {
   "cell_type": "code",
   "execution_count": 64,
   "metadata": {},
   "outputs": [],
   "source": [
    "# import hunspell\n",
    "\n",
    "# # Hunspell 객체 생성 (사전 파일 필요)\n",
    "# hun = hunspell.HunSpell('/usr/share/hunspell/en_US.dic', '/usr/share/hunspell/en_US.aff')\n",
    "\n",
    "# # 스펠 체크\n",
    "# word = \"speling\"\n",
    "# if not hun.spell(word):\n",
    "#     print(f'Misspelled word: {word}')\n",
    "#     suggestions = hun.suggest(word)\n",
    "#     print(f'Suggestions: {suggestions}')"
   ]
  },
  {
   "cell_type": "markdown",
   "metadata": {
    "_cell_guid": "54217ed9-8cc9-43c9-a2c5-bdabcfbe145e",
    "_uuid": "8867dcab-75cc-4756-a373-91f7b7cf67f6"
   },
   "source": [
    "# 🐝 **토큰화 진행 (WordPiece vs BPE)** "
   ]
  },
  {
   "cell_type": "markdown",
   "metadata": {},
   "source": [
    "# BPE"
   ]
  },
  {
   "cell_type": "code",
   "execution_count": 33,
   "metadata": {},
   "outputs": [],
   "source": [
    "from tokenizers import(\n",
    "    decoders,\n",
    "    models,\n",
    "    normalizers,\n",
    "    pre_tokenizers,\n",
    "    processors,\n",
    "    trainers,\n",
    "        Tokenizer,\n",
    ")\n",
    "from tokenizers.models import BPE\n",
    "from tokenizers.trainers import BpeTrainer\n",
    "from tokenizers.pre_tokenizers import Whitespace\n",
    "\n",
    "from transformers import PreTrainedTokenizerFast\n",
    "\n",
    "from datasets import Dataset\n",
    "from tqdm.auto import tqdm\n",
    "from tokenizers import processors"
   ]
  },
  {
   "cell_type": "code",
   "execution_count": 34,
   "metadata": {},
   "outputs": [],
   "source": [
    "LOWERCASE = False\n",
    "VOCAB_SIZE = 30522"
   ]
  },
  {
   "cell_type": "code",
   "execution_count": 35,
   "metadata": {},
   "outputs": [
    {
     "name": "stdout",
     "output_type": "stream",
     "text": [
      "\n",
      "\n",
      "\n"
     ]
    }
   ],
   "source": [
    "# Tokenizer 초기화\n",
    "raw_tokenizer = Tokenizer(models.BPE(unk_token=\"[UNK]\"))\n",
    "\n",
    "# Normalizer 설정\n",
    "raw_tokenizer.normalizer = normalizers.Sequence([normalizers.NFC()] + [normalizers.Lowercase()] if LOWERCASE else [])\n",
    "\n",
    "# Pre-tokenizer 설정: Byte-Level pre-tokenizer를 사용\n",
    "# \"Ġ\" 문자 제거 하고 싶다면 -> add_prefix_space=False 추가\n",
    "raw_tokenizer.pre_tokenizer = pre_tokenizers.ByteLevel()\n",
    "\n",
    "# BPE Trainer 설정 및 스페셜 토큰 추가\n",
    "special_tokens = [\"[UNK]\", \"[PAD]\", \"[CLS]\", \"[SEP]\", \"[MASK]\"]\n",
    "trainer = trainers.BpeTrainer(vocab_size=VOCAB_SIZE, special_tokens=special_tokens)\n",
    "\n",
    "# 데이터셋 로드 및 토크나이저 훈련 (훈련 셋 : df_train_essays_final[['text']])\n",
    "dataset = Dataset.from_pandas(df_train_essays_final[['text']])\n",
    "def train_corp_iter(): \n",
    "    for i in range(0, len(dataset), 1000):\n",
    "        yield dataset[i : i + 1000][\"text\"]\n",
    "raw_tokenizer.train_from_iterator(train_corp_iter(), trainer=trainer)\n",
    "\n",
    "# PreTrainedTokenizerFast로 래핑\n",
    "from transformers import RobertaTokenizerFast\n",
    "\n",
    "tokenizer = PreTrainedTokenizerFast(\n",
    "    tokenizer_object=raw_tokenizer,\n",
    "    unk_token=\"[UNK]\",\n",
    "    pad_token=\"[PAD]\",\n",
    "    cls_token=\"[CLS]\",\n",
    "    sep_token=\"[SEP]\",\n",
    "    mask_token=\"[MASK]\",\n",
    ")"
   ]
  },
  {
   "cell_type": "code",
   "execution_count": 36,
   "metadata": {},
   "outputs": [
    {
     "data": {
      "application/vnd.jupyter.widget-view+json": {
       "model_id": "8b217d6625284c5897733e96fcd1da62",
       "version_major": 2,
       "version_minor": 0
      },
      "text/plain": [
       "토큰화 진행중:   0%|          | 0/73708 [00:00<?, ?it/s]"
      ]
     },
     "metadata": {},
     "output_type": "display_data"
    }
   ],
   "source": [
    "# df_train_essays_final['text'] 토큰화 해보기\n",
    "# test_essays 데이터의 토큰화 진행 상황을 표시\n",
    "test_input_ids = []\n",
    "test_attention_masks = []\n",
    "\n",
    "for text in tqdm(df_train_essays_final['text'].tolist(), desc=\"토큰화 진행중\"):\n",
    "    encoded = tokenizer.encode_plus(text, \n",
    "                                    add_special_tokens=True, \n",
    "                                    max_length=256, \n",
    "                                    padding='max_length', \n",
    "                                    truncation=True, \n",
    "                                    return_attention_mask=True, \n",
    "                                    return_tensors='np')\n",
    "\n",
    "    test_input_ids.append(encoded['input_ids'][0])\n",
    "    test_attention_masks.append(encoded['attention_mask'][0])"
   ]
  },
  {
   "cell_type": "code",
   "execution_count": 37,
   "metadata": {},
   "outputs": [],
   "source": [
    "\n",
    "    # 토큰화된 데이터를 pandas DataFrame으로 변환\n",
    "df_encoded = pd.DataFrame({\n",
    "    'input_ids': test_input_ids,\n",
    "    'attention_mask': test_attention_masks\n",
    "})"
   ]
  },
  {
   "cell_type": "code",
   "execution_count": 70,
   "metadata": {},
   "outputs": [
    {
     "data": {
      "text/plain": [
       "(array([ 1264,    11,  1264,   722,  2274,   718,  1229,   711,  3175,\n",
       "         4453,   168,   182, 11853,    69,    10,  1978, 15856,  5107,\n",
       "         1160,   390,  3369,   182,   945, 22468,    11,  1264,   722,\n",
       "         4062,   117,   939,  1986,   168,  1305,   449,   594,  1228,\n",
       "         1229,  2463,    11,   844,  1947,    10,   230,   474,  3434,\n",
       "          285,  1934,  1689,   973,   185,   566,   213,   358,   117,\n",
       "          486,   436,    11,  1353,   503,    10,   973,   182,   458,\n",
       "          300,   298,   572,   358,   117,   486,   436,   285,   626,\n",
       "           11,   101,   101,  2686,   293,  1495,   300,  1009,    10,\n",
       "          733,    10,   928,  2686,  3702,  4080,    10,  3280,  4341,\n",
       "          597,  1972,  1264,  3944,  1147, 11581,  2532,   415,    10,\n",
       "         2409,  3782,   474,   182, 14229,   300,  4128,    10,  2144,\n",
       "         3386,   338,  2424,  1491,  2098, 13126,   565,  9511,  2485,\n",
       "          285,   352,  1189,  3682,    11, 10227,   665,  2409,  1009,\n",
       "          351,   117,  2220,  8842,   285,  1769,  2678,   285,   909,\n",
       "         1316,   887,  1065,  1491,  8763,    11,  6319,   298,   474,\n",
       "         1862,   311,  2810,   963,   300,  1316,   887,  1065,   168,\n",
       "         1853,  3664,   234,   938,   285,  2806,   963,   168,   519,\n",
       "         4550,  1308,   168,   182,   923,   933,    11,  1264,   474,\n",
       "          182,  1013,   728,   311,   182,  1316,   887,  1065,  1350,\n",
       "          300,   117,   766,   300,   230,   524,   783,   718,   445,\n",
       "          182,   325,   974,  2144,   711,   382,   285,   252,    11,\n",
       "         8576,    10,   928,  6643,  3723,   524,   995,   285,  1082,\n",
       "         3944,  1147,  4351,  3599,  1383,    10,  2409,  1286,    10,\n",
       "         3781,  1382,   300,  4573,   739,    10,  3431,   117,  3036,\n",
       "          524,  1197,   285,  1089,   182,   726,   300,   182,  2399,\n",
       "          988,    11,   424,   320,  1383,    10,  2409,   367,  4155,\n",
       "           10, 13120,   528,  5534,  2834,  2828,  2425,  5748,   285,\n",
       "         2317,  1189,   298,   420]),\n",
       " array([1, 1, 1, 1, 1, 1, 1, 1, 1, 1, 1, 1, 1, 1, 1, 1, 1, 1, 1, 1, 1, 1,\n",
       "        1, 1, 1, 1, 1, 1, 1, 1, 1, 1, 1, 1, 1, 1, 1, 1, 1, 1, 1, 1, 1, 1,\n",
       "        1, 1, 1, 1, 1, 1, 1, 1, 1, 1, 1, 1, 1, 1, 1, 1, 1, 1, 1, 1, 1, 1,\n",
       "        1, 1, 1, 1, 1, 1, 1, 1, 1, 1, 1, 1, 1, 1, 1, 1, 1, 1, 1, 1, 1, 1,\n",
       "        1, 1, 1, 1, 1, 1, 1, 1, 1, 1, 1, 1, 1, 1, 1, 1, 1, 1, 1, 1, 1, 1,\n",
       "        1, 1, 1, 1, 1, 1, 1, 1, 1, 1, 1, 1, 1, 1, 1, 1, 1, 1, 1, 1, 1, 1,\n",
       "        1, 1, 1, 1, 1, 1, 1, 1, 1, 1, 1, 1, 1, 1, 1, 1, 1, 1, 1, 1, 1, 1,\n",
       "        1, 1, 1, 1, 1, 1, 1, 1, 1, 1, 1, 1, 1, 1, 1, 1, 1, 1, 1, 1, 1, 1,\n",
       "        1, 1, 1, 1, 1, 1, 1, 1, 1, 1, 1, 1, 1, 1, 1, 1, 1, 1, 1, 1, 1, 1,\n",
       "        1, 1, 1, 1, 1, 1, 1, 1, 1, 1, 1, 1, 1, 1, 1, 1, 1, 1, 1, 1, 1, 1,\n",
       "        1, 1, 1, 1, 1, 1, 1, 1, 1, 1, 1, 1, 1, 1, 1, 1, 1, 1, 1, 1, 1, 1,\n",
       "        1, 1, 1, 1, 1, 1, 1, 1, 1, 1, 1, 1, 1, 1]))"
      ]
     },
     "execution_count": 70,
     "metadata": {},
     "output_type": "execute_result"
    }
   ],
   "source": [
    "# 첫 번째 행의 'input_ids'와 'attention_mask' 열의 데이터 출력\n",
    "first_row_input_ids = df_encoded['input_ids'].iloc[0]\n",
    "first_row_attention_mask = df_encoded['attention_mask'].iloc[0]\n",
    "\n",
    "first_row_input_ids, first_row_attention_mask"
   ]
  },
  {
   "cell_type": "code",
   "execution_count": 38,
   "metadata": {},
   "outputs": [],
   "source": [
    "# 데이터프레임에서 필요한 열만 선택\n",
    "df_encoded = df_encoded[['input_ids', 'attention_mask']]\n",
    "\n",
    "# 'generated' 열은 레이블로 사용할 것이므로 따로 선택\n",
    "labels = df_train_essays_final['generated'].values\n"
   ]
  },
  {
   "cell_type": "code",
   "execution_count": 39,
   "metadata": {},
   "outputs": [
    {
     "name": "stdout",
     "output_type": "stream",
     "text": [
      "df_encoded shape: (73708, 2)\n",
      "labels: 73708\n"
     ]
    }
   ],
   "source": [
    "print(\"df_encoded shape:\", df_encoded.shape)\n",
    "\n",
    "print(\"labels:\", len(labels))"
   ]
  },
  {
   "cell_type": "code",
   "execution_count": 40,
   "metadata": {},
   "outputs": [],
   "source": [
    "# 학습 및 검증 데이터셋 분리\n",
    "train_inputs, validation_inputs, train_labels, validation_labels = train_test_split(df_encoded, labels, random_state=2018, test_size=0.2)\n"
   ]
  },
  {
   "cell_type": "code",
   "execution_count": 41,
   "metadata": {},
   "outputs": [],
   "source": [
    "# 데이터셋 준비\n",
    "train_inputs = {\n",
    "    \"input_ids\": np.array(train_inputs[\"input_ids\"].to_list()),\n",
    "    \"attention_mask\": np.array(train_inputs[\"attention_mask\"].to_list()),\n",
    "    \"labels\": np.array(train_labels)\n",
    "}\n",
    "train_labels = np.array(train_labels)\n",
    "\n",
    "validation_inputs = {\n",
    "    \"input_ids\": np.array(validation_inputs[\"input_ids\"].to_list()),\n",
    "    \"attention_mask\": np.array(validation_inputs[\"attention_mask\"].to_list()),\n",
    "    \"labels\": np.array(validation_labels)\n",
    "}\n",
    "validation_labels = np.array(validation_labels)\n"
   ]
  },
  {
   "cell_type": "code",
   "execution_count": 42,
   "metadata": {},
   "outputs": [
    {
     "name": "stdout",
     "output_type": "stream",
     "text": [
      "train_inputs[input_ids] shape: (58966, 256)\n",
      "train_inputs[attention_mask] shape: (58966, 256)\n",
      "train_inputs[labels] shape: (58966, 256)\n",
      "validation_inputs[input_ids] shape: (14742, 256)\n",
      "validation_inputs[attention_mask] shape: (14742, 256)\n",
      "validation_inputs[labels] shape: (14742, 256)\n"
     ]
    }
   ],
   "source": [
    "# 입력 데이터 형상 확인\n",
    "print(\"train_inputs[input_ids] shape:\", train_inputs['input_ids'].shape)\n",
    "print(\"train_inputs[attention_mask] shape:\", train_inputs['attention_mask'].shape)\n",
    "print(\"train_inputs[labels] shape:\", train_inputs['attention_mask'].shape)\n",
    "print(\"validation_inputs[input_ids] shape:\", validation_inputs['input_ids'].shape)\n",
    "print(\"validation_inputs[attention_mask] shape:\", validation_inputs['attention_mask'].shape)\n",
    "print(\"validation_inputs[labels] shape:\", validation_inputs['attention_mask'].shape)\n",
    "# 필요한 경우 패딩 또는 트리밍 수행\n",
    "# 예시: train_inputs['input_ids'] = pad_or_trim(train_inputs['input_ids'], desired_length)\n",
    "\n",
    "# 모델 학습을 다시 시도\n"
   ]
  },
  {
   "cell_type": "code",
   "execution_count": 43,
   "metadata": {},
   "outputs": [],
   "source": [
    "from datasets import Dataset"
   ]
  },
  {
   "cell_type": "code",
   "execution_count": 44,
   "metadata": {},
   "outputs": [],
   "source": [
    "train_dataset = Dataset.from_dict(train_inputs)\n",
    "validation_dataset = Dataset.from_dict(validation_inputs)"
   ]
  },
  {
   "cell_type": "code",
   "execution_count": 45,
   "metadata": {},
   "outputs": [
    {
     "name": "stdout",
     "output_type": "stream",
     "text": [
      "train_dataset type: <class 'datasets.arrow_dataset.Dataset'>\n",
      "validation_dataset type: <class 'datasets.arrow_dataset.Dataset'>\n"
     ]
    }
   ],
   "source": [
    "print(\"train_dataset type:\", type(train_dataset))\n",
    "print(\"validation_dataset type:\", type(validation_dataset))"
   ]
  },
  {
   "cell_type": "markdown",
   "metadata": {},
   "source": [
    "## WordPiece"
   ]
  },
  {
   "cell_type": "code",
   "execution_count": 79,
   "metadata": {},
   "outputs": [],
   "source": [
    "# max_length 파라미터 조정을 통한 성능 확인"
   ]
  },
  {
   "cell_type": "code",
   "execution_count": 80,
   "metadata": {},
   "outputs": [],
   "source": [
    "# problematic_data = df_train_essays_final[df_train_essays_final['text'].apply(lambda x: not isinstance(x, str))]\n",
    "# print(problematic_data)"
   ]
  },
  {
   "cell_type": "code",
   "execution_count": 81,
   "metadata": {},
   "outputs": [],
   "source": [
    "# from transformers import RobertaTokenizer\n",
    "# from tqdm.auto import tqdm\n",
    "# import pandas as pd\n",
    "\n",
    "# # BERT 토크나이저 초기화\n",
    "# tokenizer = RobertaTokenizer.from_pretrained('roberta-base')\n",
    "\n",
    "# # 토큰 길이 계산\n",
    "# token_lengths = []\n",
    "# for text in df_train_essays_final['text']:  # 'text_column'은 텍스트가 포함된 컬럼 이름입니다.\n",
    "#     tokens = tokenizer.encode(text, add_special_tokens=True)\n",
    "#     token_lengths.append(len(tokens))\n",
    "\n",
    "    \n",
    "# df_ = df_train_essays_final.copy()\n",
    "# # 토큰 길이를 DataFrame에 추가\n",
    "# df_['text'] = token_lengths\n",
    "\n",
    "# # 길이 분포 분석\n",
    "# print(df_['text'].describe())\n",
    "\n",
    "# # # # 토큰 길이를 DataFrame에 추가\n",
    "# # df_train_essays_final['text'] = token_lengths\n",
    "\n",
    "# # # # 길이 분포 분석\n",
    "# # print(df_train_essays_final['text'].describe())"
   ]
  },
  {
   "cell_type": "code",
   "execution_count": 82,
   "metadata": {},
   "outputs": [],
   "source": [
    "\n",
    "# # tqdm을 사용하여 토큰화 진행 상황을 표시\n",
    "# input_ids = []\n",
    "# attention_masks = []\n",
    "\n",
    "# for text in tqdm(df_train_essays_final['text'].tolist(), desc=\"토큰화 진행중\"):\n",
    "#     encoded = tokenizer.encode_plus(text, \n",
    "#                                     add_special_tokens=True, \n",
    "#                                     max_length=256, \n",
    "#                                     padding='max_length', \n",
    "#                                     truncation=True, \n",
    "#                                     return_attention_mask=True, \n",
    "#                                     return_tensors='np')\n",
    "#     input_ids.append(encoded['input_ids'][0])\n",
    "#     attention_masks.append(encoded['attention_mask'][0])\n",
    "\n",
    "# # 토큰화된 데이터를 pandas DataFrame으로 변환\n",
    "# df_encoded = pd.DataFrame({\n",
    "#     'input_ids': input_ids,\n",
    "#     'attention_mask': attention_masks\n",
    "# })\n",
    "\n"
   ]
  },
  {
   "cell_type": "code",
   "execution_count": 83,
   "metadata": {},
   "outputs": [],
   "source": [
    "# df_encoded.to_csv('단어_TF_RoBERTa_encoded_data.csv', index=False)"
   ]
  },
  {
   "cell_type": "code",
   "execution_count": 84,
   "metadata": {},
   "outputs": [],
   "source": [
    "# from sklearn.feature_extraction.text import TfidfVectorizer\n",
    "# from transformers import BertTokenizer\n",
    "\n",
    "# # BERT 모델에 대한 기본 tokenizer를 사용합니다.\n",
    "# bert_tokenizer = BertTokenizer.from_pretrained('bert-base-uncased')\n",
    "\n",
    "# # BERT의 tokenizer를 사용하여 텍스트를 토큰화하는 함수를 정의합니다.\n",
    "# def bert_tokenize(text):\n",
    "#     # BERT tokenizer로 토큰화하고 토큰 ID를 반환합니다.\n",
    "#     return bert_tokenizer.encode(text, add_special_tokens=True)\n",
    "\n",
    "# # TfidfVectorizer 객체를 생성하고, tokenizer로 위에서 정의한 bert_tokenize 함수를 사용합니다.\n",
    "# tfidf_vectorizer = TfidfVectorizer(tokenizer=bert_tokenize, ngram_range=(1, 2))\n",
    "\n",
    "# # 트레이닝 데이터에 대해 TF-IDF 벡터화를 수행합니다.\n",
    "# X_train_tfidf = tfidf_vectorizer.fit_transform(df_train_essays_final['text'])\n",
    "\n",
    "# # 테스트 데이터에 대해 TF-IDF 벡터화를 수행합니다.\n",
    "# X_test_tfidf = tfidf_vectorizer.transform(test_essays['text'])"
   ]
  },
  {
   "cell_type": "markdown",
   "metadata": {},
   "source": [
    "==============================================="
   ]
  },
  {
   "cell_type": "markdown",
   "metadata": {},
   "source": [
    "# 🐝 **모델학습 진행**"
   ]
  },
  {
   "cell_type": "markdown",
   "metadata": {},
   "source": [
    "# 🐝 DeBERTa-v3-base 코드 적용"
   ]
  },
  {
   "cell_type": "code",
   "execution_count": 46,
   "metadata": {},
   "outputs": [
    {
     "name": "stderr",
     "output_type": "stream",
     "text": [
      "Some weights of DistilBertForSequenceClassification were not initialized from the model checkpoint at distilbert-base-uncased and are newly initialized: ['pre_classifier.bias', 'classifier.bias', 'pre_classifier.weight', 'classifier.weight']\n",
      "You should probably TRAIN this model on a down-stream task to be able to use it for predictions and inference.\n"
     ]
    }
   ],
   "source": [
    "from transformers import AutoModelForSequenceClassification, TrainingArguments, Trainer\n",
    "from sklearn.model_selection import KFold\n",
    "\n",
    "# # ROBERTa 토크나이저 초기화                 # \"단순한 모델의 경우 토큰화 전처리 없이 trainer.train() 에 tokenizer 바로 부여가능\n",
    "# tokenizer = RobertaTokenizer.from_pretrained('roberta-base')\n",
    "\n",
    "model_checkpoint = 'distilbert-base-uncased' # \"모델이름\"      # \"모델마다 토크나이저 주의\"    \n",
    "                                  \n",
    "num_labels = 2\n",
    "model = AutoModelForSequenceClassification.from_pretrained(model_checkpoint, num_labels=num_labels)\n",
    "\n",
    "import torch\n",
    "\n",
    "device = torch.device(\"cuda:0\" if torch.cuda.is_available() else \"cpu\")\n",
    "# Move your model and data to the GPU\n",
    "model.to(device);\n",
    "\n",
    "# 조기 종료 콜백 설정\n",
    "from transformers import EarlyStoppingCallback\n",
    "early_stopping = EarlyStoppingCallback(early_stopping_patience=3)"
   ]
  },
  {
   "cell_type": "code",
   "execution_count": 47,
   "metadata": {},
   "outputs": [],
   "source": [
    "# 훈련 인자 설정\n",
    "from transformers import TrainingArguments\n",
    "\n",
    "num_train_epochs = 5.0\n",
    "metric_name = \"roc_auc\"\n",
    "model_name = \"distilbert-base-uncased\"  # \"모델이름\"\n",
    "batch_size = 8\n",
    "args = TrainingArguments(\n",
    "    output_dir=\"./DistilBERT_results/results_fold_{fold}\",  # {fold}는 각 fold 번호에 따라 바뀝니다\n",
    "    num_train_epochs=num_train_epochs,\n",
    "    per_device_train_batch_size=batch_size,\n",
    "    per_device_eval_batch_size=batch_size,\n",
    "    warmup_steps=500,\n",
    "    weight_decay=0.01,\n",
    "    evaluation_strategy=\"epoch\",\n",
    "    save_strategy=\"epoch\",\n",
    "    learning_rate=2e-5,\n",
    "    lr_scheduler_type=\"cosine\",\n",
    "    optim=\"adamw_torch\",\n",
    "    gradient_accumulation_steps=8,\n",
    "    load_best_model_at_end=True,\n",
    "    metric_for_best_model=metric_name,\n",
    "    report_to='none',\n",
    "    save_total_limit=2,\n",
    "    logging_dir=\"./logs/logs_fold_{fold}\",  # {fold}는 각 fold 번호에 따라 바뀝니다\n",
    "    logging_steps=10,\n",
    ")\n",
    "\n",
    "# args = TrainingArguments(\n",
    "#     f\"{model_name}-finetuned_v1\",\n",
    "#     evaluation_strategy=\"epoch\",\n",
    "#     save_strategy=\"epoch\",\n",
    "#     learning_rate=2e-5,\n",
    "#     lr_scheduler_type=\"cosine\",\n",
    "    \n",
    "#     optim=\"adamw_torch\",\n",
    "#     per_device_train_batch_size=batch_size,\n",
    "#     per_device_eval_batch_size=batch_size,\n",
    "#     gradient_accumulation_steps=8,\n",
    "#     num_train_epochs=num_train_epochs,\n",
    "#     weight_decay=0.01,\n",
    "#     load_best_model_at_end=True,\n",
    "#     metric_for_best_model=metric_name,\n",
    "#     report_to='none',\n",
    "#     save_total_limit=2,\n",
    "# )\n"
   ]
  },
  {
   "cell_type": "code",
   "execution_count": 48,
   "metadata": {},
   "outputs": [],
   "source": [
    "# 평가 메트릭 설정\n",
    "from sklearn.metrics import roc_auc_score\n",
    "\n",
    "def compute_metrics(eval_pred):\n",
    "    logits, labels = eval_pred\n",
    "    probs = np.exp(logits) / np.sum(np.exp(logits), axis=-1, keepdims=True)\n",
    "    auc = roc_auc_score(labels, probs[:,1], multi_class='ovr')\n",
    "    return {\"roc_auc\": auc}"
   ]
  },
  {
   "cell_type": "code",
   "execution_count": 49,
   "metadata": {},
   "outputs": [],
   "source": [
    "# KFold 객체 초기화\n",
    "num_folds = 3  # 원하는 fold의 수 설정\n",
    "kf = KFold(n_splits=num_folds, shuffle=True, random_state=42)"
   ]
  },
  {
   "cell_type": "code",
   "execution_count": 50,
   "metadata": {},
   "outputs": [],
   "source": [
    "# 전체 데이터셋을 NumPy 배열로 변환\n",
    "full_input_ids = np.array(df_encoded[\"input_ids\"].to_list())\n",
    "full_attention_mask = np.array(df_encoded[\"attention_mask\"].to_list())\n",
    "full_labels = np.array(labels)"
   ]
  },
  {
   "cell_type": "code",
   "execution_count": null,
   "metadata": {},
   "outputs": [
    {
     "name": "stderr",
     "output_type": "stream",
     "text": [
      "Some weights of DistilBertForSequenceClassification were not initialized from the model checkpoint at distilbert-base-uncased and are newly initialized: ['pre_classifier.bias', 'classifier.bias', 'pre_classifier.weight', 'classifier.weight']\n",
      "You should probably TRAIN this model on a down-stream task to be able to use it for predictions and inference.\n",
      "Detected kernel version 5.4.0, which is below the recommended minimum of 5.5.0; this can cause the process to hang. It is recommended to upgrade the kernel to the minimum version or higher.\n"
     ]
    },
    {
     "data": {
      "text/html": [
       "\n",
       "    <div>\n",
       "      \n",
       "      <progress value='3835' max='3835' style='width:300px; height:20px; vertical-align: middle;'></progress>\n",
       "      [3835/3835 59:33, Epoch 4/5]\n",
       "    </div>\n",
       "    <table border=\"1\" class=\"dataframe\">\n",
       "  <thead>\n",
       " <tr style=\"text-align: left;\">\n",
       "      <th>Epoch</th>\n",
       "      <th>Training Loss</th>\n",
       "      <th>Validation Loss</th>\n",
       "      <th>Roc Auc</th>\n",
       "    </tr>\n",
       "  </thead>\n",
       "  <tbody>\n",
       "    <tr>\n",
       "      <td>0</td>\n",
       "      <td>0.263300</td>\n",
       "      <td>0.072530</td>\n",
       "      <td>0.998013</td>\n",
       "    </tr>\n",
       "    <tr>\n",
       "      <td>1</td>\n",
       "      <td>0.031000</td>\n",
       "      <td>0.038235</td>\n",
       "      <td>0.999201</td>\n",
       "    </tr>\n",
       "    <tr>\n",
       "      <td>2</td>\n",
       "      <td>0.018600</td>\n",
       "      <td>0.039909</td>\n",
       "      <td>0.999231</td>\n",
       "    </tr>\n",
       "    <tr>\n",
       "      <td>3</td>\n",
       "      <td>0.014600</td>\n",
       "      <td>0.036381</td>\n",
       "      <td>0.999370</td>\n",
       "    </tr>\n",
       "    <tr>\n",
       "      <td>4</td>\n",
       "      <td>0.000500</td>\n",
       "      <td>0.038424</td>\n",
       "      <td>0.999376</td>\n",
       "    </tr>\n",
       "  </tbody>\n",
       "</table><p>"
      ],
      "text/plain": [
       "<IPython.core.display.HTML object>"
      ]
     },
     "metadata": {},
     "output_type": "display_data"
    },
    {
     "name": "stderr",
     "output_type": "stream",
     "text": [
      "Some weights of DistilBertForSequenceClassification were not initialized from the model checkpoint at distilbert-base-uncased and are newly initialized: ['pre_classifier.bias', 'classifier.bias', 'pre_classifier.weight', 'classifier.weight']\n",
      "You should probably TRAIN this model on a down-stream task to be able to use it for predictions and inference.\n",
      "Detected kernel version 5.4.0, which is below the recommended minimum of 5.5.0; this can cause the process to hang. It is recommended to upgrade the kernel to the minimum version or higher.\n"
     ]
    },
    {
     "data": {
      "text/html": [
       "\n",
       "    <div>\n",
       "      \n",
       "      <progress value='1536' max='3835' style='width:300px; height:20px; vertical-align: middle;'></progress>\n",
       "      [1536/3835 22:00 < 32:58, 1.16 it/s, Epoch 2.00/5]\n",
       "    </div>\n",
       "    <table border=\"1\" class=\"dataframe\">\n",
       "  <thead>\n",
       " <tr style=\"text-align: left;\">\n",
       "      <th>Epoch</th>\n",
       "      <th>Training Loss</th>\n",
       "      <th>Validation Loss</th>\n",
       "      <th>Roc Auc</th>\n",
       "    </tr>\n",
       "  </thead>\n",
       "  <tbody>\n",
       "    <tr>\n",
       "      <td>0</td>\n",
       "      <td>0.313000</td>\n",
       "      <td>0.060142</td>\n",
       "      <td>0.997431</td>\n",
       "    </tr>\n",
       "  </tbody>\n",
       "</table><p>\n",
       "    <div>\n",
       "      \n",
       "      <progress value='1191' max='3072' style='width:300px; height:20px; vertical-align: middle;'></progress>\n",
       "      [1191/3072 00:42 < 01:07, 28.01 it/s]\n",
       "    </div>\n",
       "    "
      ],
      "text/plain": [
       "<IPython.core.display.HTML object>"
      ]
     },
     "metadata": {},
     "output_type": "display_data"
    }
   ],
   "source": [
    "# K-fold 교차 검증\n",
    "for fold, (train_index, val_index) in enumerate(kf.split(full_input_ids)):\n",
    "    # 훈련 데이터와 검증 데이터 분할\n",
    "    train_inputs = {\n",
    "        \"input_ids\": full_input_ids[train_index],\n",
    "        \"attention_mask\": full_attention_mask[train_index],\n",
    "        \"labels\": full_labels[train_index]\n",
    "    }\n",
    "    validation_inputs = {\n",
    "        \"input_ids\": full_input_ids[val_index],\n",
    "        \"attention_mask\": full_attention_mask[val_index],\n",
    "        \"labels\": full_labels[val_index]\n",
    "    }\n",
    "    \n",
    "    train_dataset = Dataset.from_dict(train_inputs)\n",
    "    validation_dataset = Dataset.from_dict(validation_inputs)\n",
    "\n",
    "    # 모델 설정\n",
    "    model = AutoModelForSequenceClassification.from_pretrained(model_checkpoint, num_labels=num_labels)\n",
    "    model.to(device)\n",
    "    \n",
    "    # fold 별로 훈련 인자 설정 업데이트\n",
    "    args.output_dir = f\"./DistilBERT_results/results_fold_{fold}\"\n",
    "    args.logging_dir = f\"./DistilBERT_logs/logs_fold_{fold}\"\n",
    "    \n",
    "    # 트레이너 설정\n",
    "    trainer = Trainer(\n",
    "        model=model,\n",
    "        args=args,\n",
    "        train_dataset=train_dataset,\n",
    "        eval_dataset=validation_dataset,\n",
    "        compute_metrics=compute_metrics, # 정의된 메트릭 함수\n",
    "        callbacks=[early_stopping]\n",
    "    )\n",
    "    \n",
    "    # 훈련 시작\n",
    "    trainer.train()"
   ]
  },
  {
   "cell_type": "code",
   "execution_count": null,
   "metadata": {},
   "outputs": [],
   "source": [
    "# 예측을 수행\n",
    "predictions = trainer.predict(validation_dataset)\n",
    "\n",
    "# 예측된 로짓을 가져옴\n",
    "predicted_logits = predictions.predictions\n",
    "\n",
    "# 로짓을 확률로 변환 (소프트맥스 함수 적용)\n",
    "predicted_probs = np.exp(predicted_logits) / np.sum(np.exp(predicted_logits), axis=1, keepdims=True)\n",
    "\n",
    "# 가장 높은 확률을 가진 클래스를 예측 레이블로 선택\n",
    "predicted_labels = np.argmax(predicted_probs, axis=1)\n",
    "\n",
    "# 실제 레이블\n",
    "true_labels = predictions.label_ids\n",
    "\n",
    "# 예측 결과와 실제 레이블을 함께 출력 (처음 10개 샘플)\n",
    "for i in range(10):\n",
    "    print(f\"Sample {i}:\")\n",
    "    print(f\"Predicted label: {predicted_labels[i]}\")\n",
    "    print(f\"True label: {true_labels[i]}\")\n",
    "    print(f\"Predicted probabilities: {predicted_probs[i]}\")\n",
    "    print(\"-\" * 50)\n"
   ]
  },
  {
   "cell_type": "code",
   "execution_count": null,
   "metadata": {},
   "outputs": [],
   "source": [
    "# # 트레이너 설정 및 훈련 시작\n",
    "# from transformers import Trainer\n",
    "# trainer = Trainer(\n",
    "#     model,\n",
    "#     args,\n",
    "#     train_dataset=train_dataset,  # train_inputs를 훈련 데이터셋으로 사용\n",
    "#     eval_dataset=validation_dataset,  # validation_inputs를 검증 데이터셋으로 사용\n",
    "#     tokenizer=tokenizer,  # 단순 토크나이저 즉시 부여, 토큰화가 되어있는 dataset은 스스로 pass\n",
    "#     callbacks=[early_stopping],\n",
    "#     compute_metrics=compute_metrics  # 평가 메트릭 함수\n",
    "# )"
   ]
  },
  {
   "cell_type": "code",
   "execution_count": null,
   "metadata": {},
   "outputs": [],
   "source": [
    "#     # 훈련 시작\n",
    "#     trainer.train()"
   ]
  },
  {
   "cell_type": "code",
   "execution_count": null,
   "metadata": {},
   "outputs": [],
   "source": []
  },
  {
   "cell_type": "code",
   "execution_count": null,
   "metadata": {},
   "outputs": [],
   "source": []
  },
  {
   "cell_type": "code",
   "execution_count": null,
   "metadata": {},
   "outputs": [],
   "source": []
  },
  {
   "cell_type": "code",
   "execution_count": null,
   "metadata": {},
   "outputs": [],
   "source": []
  },
  {
   "cell_type": "code",
   "execution_count": null,
   "metadata": {},
   "outputs": [],
   "source": []
  },
  {
   "cell_type": "code",
   "execution_count": null,
   "metadata": {},
   "outputs": [],
   "source": []
  },
  {
   "cell_type": "code",
   "execution_count": null,
   "metadata": {},
   "outputs": [],
   "source": []
  }
 ],
 "metadata": {
  "kaggle": {
   "accelerator": "nvidiaTeslaT4",
   "dataSources": [
    {
     "databundleVersionId": 6888007,
     "sourceId": 61542,
     "sourceType": "competition"
    },
    {
     "datasetId": 4210720,
     "sourceId": 7294503,
     "sourceType": "datasetVersion"
    }
   ],
   "dockerImageVersionId": 30558,
   "isGpuEnabled": true,
   "isInternetEnabled": false,
   "language": "python",
   "sourceType": "notebook"
  },
  "kernelspec": {
   "display_name": "torch1.10.0-py3.8-cuda11.3",
   "language": "python",
   "name": "torch1.10.0-py3.8-cuda11.3"
  },
  "language_info": {
   "codemirror_mode": {
    "name": "ipython",
    "version": 3
   },
   "file_extension": ".py",
   "mimetype": "text/x-python",
   "name": "python",
   "nbconvert_exporter": "python",
   "pygments_lexer": "ipython3",
   "version": "3.8.10"
  }
 },
 "nbformat": 4,
 "nbformat_minor": 4
}
